{
 "cells": [
  {
   "cell_type": "code",
   "execution_count": 23,
   "metadata": {},
   "outputs": [
    {
     "name": "stdout",
     "output_type": "stream",
     "text": [
      "The sql extension is already loaded. To reload it, use:\n",
      "  %reload_ext sql\n"
     ]
    }
   ],
   "source": [
    "%load_ext sql"
   ]
  },
  {
   "cell_type": "markdown",
   "metadata": {},
   "source": [
    "# Import Packages"
   ]
  },
  {
   "cell_type": "code",
   "execution_count": 6,
   "metadata": {},
   "outputs": [],
   "source": [
    "import duckdb\n",
    "import plotly.express as px\n",
    "import pandas as pd"
   ]
  },
  {
   "cell_type": "markdown",
   "metadata": {},
   "source": [
    "# Connect to Local Database"
   ]
  },
  {
   "cell_type": "code",
   "execution_count": 44,
   "metadata": {},
   "outputs": [],
   "source": [
    "# Create connection to local duckdb database\n",
    "con = duckdb.connect('../db/duck.db')\n",
    "%sql con --alias duckdb"
   ]
  },
  {
   "cell_type": "markdown",
   "metadata": {},
   "source": [
    "# View Database"
   ]
  },
  {
   "cell_type": "code",
   "execution_count": 34,
   "metadata": {},
   "outputs": [
    {
     "data": {
      "text/plain": [
       "┌───────────────┐\n",
       "│ database_name │\n",
       "│    varchar    │\n",
       "├───────────────┤\n",
       "│ duck          │\n",
       "└───────────────┘"
      ]
     },
     "execution_count": 34,
     "metadata": {},
     "output_type": "execute_result"
    }
   ],
   "source": [
    "con.sql(\"SHOW DATABASES;\")"
   ]
  },
  {
   "cell_type": "code",
   "execution_count": 35,
   "metadata": {},
   "outputs": [
    {
     "data": {
      "text/plain": [
       "┌───────────────────────────┐\n",
       "│           name            │\n",
       "│          varchar          │\n",
       "├───────────────────────────┤\n",
       "│ balance_sheet_assets      │\n",
       "│ balance_sheet_equity      │\n",
       "│ balance_sheet_liabilities │\n",
       "│ cash_flow_statement       │\n",
       "│ dividend                  │\n",
       "│ earnings_calendar         │\n",
       "│ eps_estimate              │\n",
       "│ eps_history               │\n",
       "│ features                  │\n",
       "│ features_temp             │\n",
       "│ income_statement          │\n",
       "│ ohlcv                     │\n",
       "│ pricing                   │\n",
       "│ rank_score                │\n",
       "│ sales_estimate            │\n",
       "│ split                     │\n",
       "│ split_adj                 │\n",
       "│ symbol                    │\n",
       "│ wolfe                     │\n",
       "├───────────────────────────┤\n",
       "│          19 rows          │\n",
       "└───────────────────────────┘"
      ]
     },
     "execution_count": 35,
     "metadata": {},
     "output_type": "execute_result"
    }
   ],
   "source": [
    "con.sql(\"SHOW TABLES;\")"
   ]
  },
  {
   "cell_type": "markdown",
   "metadata": {},
   "source": [
    "# Create Features Table"
   ]
  },
  {
   "cell_type": "code",
   "execution_count": null,
   "metadata": {},
   "outputs": [],
   "source": [
    "con.sql(\"\"\"\n",
    "    CREATE OR REPLACE TABLE features_raw (\n",
    "        date DATE, \n",
    "        id VARCHAR,\n",
    "        symbol VARCHAR,\n",
    "        value DOUBLE, \n",
    "        PRIMARY KEY (date, id, symbol)\n",
    "    );\n",
    "\"\"\")"
   ]
  },
  {
   "cell_type": "markdown",
   "metadata": {},
   "source": [
    "# Create Wolfe Ref Feature Table"
   ]
  },
  {
   "cell_type": "code",
   "execution_count": 12,
   "metadata": {},
   "outputs": [],
   "source": [
    "con.sql(\"\"\"\n",
    "    --read csv data/wolfe/wolfe_feat_ref.csv and insert into wolfe table\n",
    "    CREATE OR REPLACE TABLE wolfe AS (\n",
    "        SELECT * FROM read_csv('../data/wolfe/wolfe_feat_ref.csv')\n",
    "    );\n",
    "\"\"\")"
   ]
  },
  {
   "cell_type": "code",
   "execution_count": 39,
   "metadata": {},
   "outputs": [
    {
     "data": {
      "text/html": [
       "<span style=\"None\">Running query in &#x27;duckdb&#x27;</span>"
      ],
      "text/plain": [
       "Running query in 'duckdb'"
      ]
     },
     "metadata": {},
     "output_type": "display_data"
    },
    {
     "data": {
      "text/html": [
       "<table>\n",
       "    <thead>\n",
       "        <tr>\n",
       "            <th>id</th>\n",
       "            <th>style_1</th>\n",
       "            <th>style_2</th>\n",
       "            <th>style_3</th>\n",
       "            <th>feature</th>\n",
       "            <th>name</th>\n",
       "            <th>description</th>\n",
       "            <th>dir</th>\n",
       "            <th>pub_yr</th>\n",
       "            <th>paper</th>\n",
       "        </tr>\n",
       "    </thead>\n",
       "    <tbody>\n",
       "        <tr>\n",
       "            <td>1</td>\n",
       "            <td>Strategy</td>\n",
       "            <td>Profitability</td>\n",
       "            <td>Historic Profitability</td>\n",
       "            <td>BERRY</td>\n",
       "            <td>Berry ratio (gross profits/operating expenses)</td>\n",
       "            <td>Calculated by subtracting total cost of goods sold from total sales and then dividing by total operating expense.</td>\n",
       "            <td>1</td>\n",
       "            <td>1999</td>\n",
       "            <td>Berry Ratios: Their Use and Misuse, Journal of Global Transfer Pricing (Berry, 1999)</td>\n",
       "        </tr>\n",
       "        <tr>\n",
       "            <td>2</td>\n",
       "            <td>Strategy</td>\n",
       "            <td>Profitability</td>\n",
       "            <td>Historic Profitability</td>\n",
       "            <td>CFRNOA</td>\n",
       "            <td>Cash flow return on net operating assets (CFRNOA)</td>\n",
       "            <td>Ratio of sum of net operating cash flow return and after-tax interest and related expenses to the sum of cash and short-term investments, total preferred stock, total common equity, total debt in current liabilities, and total long term debt.</td>\n",
       "            <td>1</td>\n",
       "            <td>2003</td>\n",
       "            <td>Accrued Earnings and Growth: Implications for Future Profitability and Market Mispricing (Fairfield et al., 2003)</td>\n",
       "        </tr>\n",
       "        <tr>\n",
       "            <td>3</td>\n",
       "            <td>Strategy</td>\n",
       "            <td>Profitability</td>\n",
       "            <td>Historic Profitability</td>\n",
       "            <td>CFROA</td>\n",
       "            <td>Cash flow return on asset (CFROA)</td>\n",
       "            <td>Ratio of sum of net operating cash flow and after-tax interest and related expenses to the average of total assets and total assets lagged by 1 year.</td>\n",
       "            <td>1</td>\n",
       "            <td>2010</td>\n",
       "            <td>A Better Three-Factor Model That Explains More Anomalies (Chen and Zhang, 2010)</td>\n",
       "        </tr>\n",
       "        <tr>\n",
       "            <td>4</td>\n",
       "            <td>Strategy</td>\n",
       "            <td>Profitability</td>\n",
       "            <td>Historic Profitability</td>\n",
       "            <td>CFROE</td>\n",
       "            <td>Cash flow return on equity (CFROE)</td>\n",
       "            <td>Ratio of rolling sum of operating net cash flow of last twelve months to the average of current total equity and total equity lagged by 1 year.</td>\n",
       "            <td>1</td>\n",
       "            <td>2010</td>\n",
       "            <td>A Better Three-Factor Model That Explains More Anomalies (Chen and Zhang, 2010)</td>\n",
       "        </tr>\n",
       "        <tr>\n",
       "            <td>5</td>\n",
       "            <td>Strategy</td>\n",
       "            <td>Profitability</td>\n",
       "            <td>Historic Profitability</td>\n",
       "            <td>GROSS_MARGIN</td>\n",
       "            <td>Gross profit margin</td>\n",
       "            <td>Calculated by dividing total gross profit by total sales.</td>\n",
       "            <td>1</td>\n",
       "            <td>2013</td>\n",
       "            <td>The other side of value: The gross profitability premium (Novy-Marx, 2013)</td>\n",
       "        </tr>\n",
       "    </tbody>\n",
       "</table>"
      ],
      "text/plain": [
       "+----+----------+---------------+------------------------+--------------+---------------------------------------------------+----------------------------------------------------------------------------------------------------------------------------------------------------------------------------------------------------------------------------------------------------+-----+--------+-------------------------------------------------------------------------------------------------------------------+\n",
       "| id | style_1  |    style_2    |        style_3         |   feature    |                        name                       |                                                                                                                    description                                                                                                                     | dir | pub_yr |                                                       paper                                                       |\n",
       "+----+----------+---------------+------------------------+--------------+---------------------------------------------------+----------------------------------------------------------------------------------------------------------------------------------------------------------------------------------------------------------------------------------------------------+-----+--------+-------------------------------------------------------------------------------------------------------------------+\n",
       "| 1  | Strategy | Profitability | Historic Profitability |    BERRY     |   Berry ratio (gross profits/operating expenses)  |                                                                 Calculated by subtracting total cost of goods sold from total sales and then dividing by total operating expense.                                                                  |  1  |  1999  |                Berry Ratios: Their Use and Misuse, Journal of Global Transfer Pricing (Berry, 1999)               |\n",
       "| 2  | Strategy | Profitability | Historic Profitability |    CFRNOA    | Cash flow return on net operating assets (CFRNOA) | Ratio of sum of net operating cash flow return and after-tax interest and related expenses to the sum of cash and short-term investments, total preferred stock, total common equity, total debt in current liabilities, and total long term debt. |  1  |  2003  | Accrued Earnings and Growth: Implications for Future Profitability and Market Mispricing (Fairfield et al., 2003) |\n",
       "| 3  | Strategy | Profitability | Historic Profitability |    CFROA     |         Cash flow return on asset (CFROA)         |                                               Ratio of sum of net operating cash flow and after-tax interest and related expenses to the average of total assets and total assets lagged by 1 year.                                                |  1  |  2010  |                  A Better Three-Factor Model That Explains More Anomalies (Chen and Zhang, 2010)                  |\n",
       "| 4  | Strategy | Profitability | Historic Profitability |    CFROE     |         Cash flow return on equity (CFROE)        |                                                  Ratio of rolling sum of operating net cash flow of last twelve months to the average of current total equity and total equity lagged by 1 year.                                                   |  1  |  2010  |                  A Better Three-Factor Model That Explains More Anomalies (Chen and Zhang, 2010)                  |\n",
       "| 5  | Strategy | Profitability | Historic Profitability | GROSS_MARGIN |                Gross profit margin                |                                                                                             Calculated by dividing total gross profit by total sales.                                                                                              |  1  |  2013  |                     The other side of value: The gross profitability premium (Novy-Marx, 2013)                    |\n",
       "+----+----------+---------------+------------------------+--------------+---------------------------------------------------+----------------------------------------------------------------------------------------------------------------------------------------------------------------------------------------------------------------------------------------------------+-----+--------+-------------------------------------------------------------------------------------------------------------------+"
      ]
     },
     "execution_count": 39,
     "metadata": {},
     "output_type": "execute_result"
    }
   ],
   "source": [
    "%%sql\n",
    "select * from wolfe limit 5;"
   ]
  },
  {
   "cell_type": "markdown",
   "metadata": {},
   "source": [
    "# Close Database Connection"
   ]
  },
  {
   "cell_type": "code",
   "execution_count": 46,
   "metadata": {},
   "outputs": [],
   "source": [
    "con.close()"
   ]
  },
  {
   "cell_type": "code",
   "execution_count": null,
   "metadata": {},
   "outputs": [],
   "source": []
  }
 ],
 "metadata": {
  "kernelspec": {
   "display_name": ".venv",
   "language": "python",
   "name": "python3"
  },
  "language_info": {
   "codemirror_mode": {
    "name": "ipython",
    "version": 3
   },
   "file_extension": ".py",
   "mimetype": "text/x-python",
   "name": "python",
   "nbconvert_exporter": "python",
   "pygments_lexer": "ipython3",
   "version": "3.12.8"
  }
 },
 "nbformat": 4,
 "nbformat_minor": 2
}
