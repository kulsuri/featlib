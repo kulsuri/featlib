{
 "cells": [
  {
   "cell_type": "markdown",
   "metadata": {},
   "source": [
    "# Import Modules"
   ]
  },
  {
   "cell_type": "code",
   "execution_count": 14,
   "metadata": {},
   "outputs": [
    {
     "name": "stdout",
     "output_type": "stream",
     "text": [
      "The sql extension is already loaded. To reload it, use:\n",
      "  %reload_ext sql\n"
     ]
    }
   ],
   "source": [
    "import duckdb\n",
    "import pandas as pd\n",
    "%load_ext sql"
   ]
  },
  {
   "cell_type": "markdown",
   "metadata": {},
   "source": [
    "# Connect to Local Database"
   ]
  },
  {
   "cell_type": "code",
   "execution_count": 15,
   "metadata": {},
   "outputs": [],
   "source": [
    "\n",
    "# Create connection to local duckdb database\n",
    "con = duckdb.connect('../db/duck.db')\n",
    "%sql con --alias duckdb"
   ]
  },
  {
   "cell_type": "code",
   "execution_count": 3,
   "metadata": {},
   "outputs": [
    {
     "data": {
      "text/plain": [
       "┌────────────────────────┐\n",
       "│          name          │\n",
       "│        varchar         │\n",
       "├────────────────────────┤\n",
       "│ features_cleaned       │\n",
       "│ features_final         │\n",
       "│ features_iqr_id        │\n",
       "│ features_normalized    │\n",
       "│ features_raw           │\n",
       "│ features_selected      │\n",
       "│ features_v_mo          │\n",
       "│ features_v_res         │\n",
       "│ features_v_ta          │\n",
       "│ features_winsorized_id │\n",
       "│ tmp_feat_ta_lib        │\n",
       "│ tmp_feat_technicals    │\n",
       "├────────────────────────┤\n",
       "│        12 rows         │\n",
       "└────────────────────────┘"
      ]
     },
     "execution_count": 3,
     "metadata": {},
     "output_type": "execute_result"
    }
   ],
   "source": [
    "con.sql(\" select name from (show all tables) where name like 'feature%' or name like '%tmp%' \")"
   ]
  },
  {
   "cell_type": "markdown",
   "metadata": {},
   "source": [
    "# Winsorization"
   ]
  },
  {
   "cell_type": "markdown",
   "metadata": {},
   "source": [
    "99-1 percentile values per feature"
   ]
  },
  {
   "cell_type": "code",
   "execution_count": 4,
   "metadata": {},
   "outputs": [
    {
     "data": {
      "text/plain": [
       "┌───────────────────────────┬──────────────────────┬────────────────────┐\n",
       "│            id             │          p1          │        p99         │\n",
       "│          varchar          │        double        │       double       │\n",
       "├───────────────────────────┼──────────────────────┼────────────────────┤\n",
       "│ trend_kst_sig             │   -319.4090756687673 │ 448.44804289257803 │\n",
       "│ momentum_pvo_signal       │    -45.4794400972397 │  31.41600886408869 │\n",
       "│ momentum_kama             │   0.7605025855930496 │  698.7334517042663 │\n",
       "│ trend_psar_down_indicator │                  0.0 │                1.0 │\n",
       "│ volume_mfi                │    9.857041832342173 │  92.96242121857581 │\n",
       "│ volatility_bbl            │    0.550716019084631 │  611.1072691939922 │\n",
       "│ momentum_ppo_signal       │  -12.368686195013446 │  8.068686328965741 │\n",
       "│ price_to_52w_close_high   │  0.11311529716150169 │                1.0 │\n",
       "│ dayofmonth                │                  1.0 │               31.0 │\n",
       "│ amihud                    │ 0.009717646812613681 │   6941.70171989411 │\n",
       "│   ·                       │                  ·   │                ·   │\n",
       "│   ·                       │                  ·   │                ·   │\n",
       "│   ·                       │                  ·   │                ·   │\n",
       "│ trend_aroon_ind           │               -100.0 │              100.0 │\n",
       "│ momentum_ppo_hist         │  -3.0620911464666043 │  3.137536666217267 │\n",
       "│ high                      │                 0.77 │              712.0 │\n",
       "│ volatility_dch            │                 0.95 │             800.99 │\n",
       "│ momentum_pvo_hist         │  -17.701703027284992 │ 30.520691767745042 │\n",
       "│ volatility_kcw            │   0.2417048778071215 │  29.76984195772459 │\n",
       "│ momentum_stoch_rsi_d      │                  0.0 │                1.0 │\n",
       "│ volatility_bbp            │ -0.18306651970943705 │ 1.1834801506930135 │\n",
       "│ close                     │                 0.73 │  695.8358999999986 │\n",
       "│ adtv_30d                  │    590.5133035126778 │  18659219.52272726 │\n",
       "├───────────────────────────┴──────────────────────┴────────────────────┤\n",
       "│ 120 rows (20 shown)                                         3 columns │\n",
       "└───────────────────────────────────────────────────────────────────────┘"
      ]
     },
     "execution_count": 4,
     "metadata": {},
     "output_type": "execute_result"
    }
   ],
   "source": [
    "con.sql(\"\"\"\n",
    "SELECT \n",
    "    id,\n",
    "    PERCENTILE_CONT(0.01) WITHIN GROUP (ORDER BY value) AS p1, \n",
    "    PERCENTILE_CONT(0.99) WITHIN GROUP (ORDER BY value) AS p99  \n",
    "FROM features_cleaned\n",
    "GROUP BY id\n",
    "\"\"\")"
   ]
  },
  {
   "cell_type": "markdown",
   "metadata": {},
   "source": [
    "99-1 percentile values per feature by date"
   ]
  },
  {
   "cell_type": "code",
   "execution_count": 5,
   "metadata": {},
   "outputs": [
    {
     "data": {
      "text/plain": [
       "┌────────────┬──────────────────┬─────────────────────┬────────────────────┐\n",
       "│    date    │        id        │         p1          │        p99         │\n",
       "│    date    │     varchar      │       double        │       double       │\n",
       "├────────────┼──────────────────┼─────────────────────┼────────────────────┤\n",
       "│ 2024-03-18 │ trend_aroon_up   │                 0.0 │              100.0 │\n",
       "│ 2024-03-18 │ volatility_bbl   │  0.3335671390145624 │  397.7753967821445 │\n",
       "│ 2024-03-18 │ momentum_1m      │ -0.4378862359550562 │ 0.5568725536992857 │\n",
       "│ 2024-03-18 │ dayofyear        │                78.0 │               78.0 │\n",
       "│ 2024-03-18 │ volatility_bbli  │                 0.0 │                1.0 │\n",
       "│ 2024-03-18 │ fwd_return_3m    │ -0.6624252720252719 │ 0.8029753581661885 │\n",
       "│ 2024-03-18 │ momentum_kama    │  0.5375052489974704 │  410.4634556386863 │\n",
       "│ 2024-03-18 │ volatility_bbm   │            0.566075 │ 412.14152499999994 │\n",
       "│ 2024-03-18 │ volatility_bbhi  │                 0.0 │                1.0 │\n",
       "│ 2024-03-18 │ dayofmonth       │                18.0 │               18.0 │\n",
       "│     ·      │     ·            │                  ·  │                 ·  │\n",
       "│     ·      │     ·            │                  ·  │                 ·  │\n",
       "│     ·      │     ·            │                  ·  │                 ·  │\n",
       "│ 2024-03-18 │ momentum_ppo     │ -16.726407720209302 │ 10.974851201796877 │\n",
       "│ 2024-03-18 │ momentum_ao      │ -10.928708823529428 │ 15.301257941176514 │\n",
       "│ 2024-03-18 │ trend_mass_index │  21.169965385254002 │  29.06969925250485 │\n",
       "│ 2024-03-18 │ trend_kst_sig    │  -321.9656286793186 │  647.7275213574472 │\n",
       "│ 2024-03-18 │ vol_vo_p_1m      │ 0.09304615351268847 │ 0.9044772865821777 │\n",
       "│ 2024-03-18 │ momentum_12m     │ -0.9253462311932072 │ 2.2962403481783347 │\n",
       "│ 2024-03-18 │ dayofweek        │                 1.0 │                1.0 │\n",
       "│ 2024-03-18 │ adtv_30d         │   987.9785714285715 │ 18739288.233333323 │\n",
       "│ 2024-03-18 │ volume_obv       │         -17798054.5 │ 2793588564.2499967 │\n",
       "│ 2024-03-18 │ trend_macd_diff  │ -1.9748832742107811 │  1.107008353277981 │\n",
       "├────────────┴──────────────────┴─────────────────────┴────────────────────┤\n",
       "│ 120 rows (20 shown)                                            4 columns │\n",
       "└──────────────────────────────────────────────────────────────────────────┘"
      ]
     },
     "execution_count": 5,
     "metadata": {},
     "output_type": "execute_result"
    }
   ],
   "source": [
    "con.sql(\"\"\"\n",
    "SELECT \n",
    "    date,\n",
    "    id,\n",
    "    PERCENTILE_CONT(0.01) WITHIN GROUP (ORDER BY value) AS p1, \n",
    "    PERCENTILE_CONT(0.99) WITHIN GROUP (ORDER BY value) AS p99  \n",
    "FROM features_cleaned\n",
    "where date = '2024-03-18'\n",
    "GROUP BY id, date\n",
    "\"\"\")"
   ]
  },
  {
   "cell_type": "markdown",
   "metadata": {},
   "source": [
    "Create table: winsorize by id"
   ]
  },
  {
   "cell_type": "code",
   "execution_count": null,
   "metadata": {},
   "outputs": [],
   "source": [
    "con.sql(\"\"\"\n",
    "CREATE TABLE features_winsorized_id AS\n",
    "WITH feature_percentiles AS (\n",
    "    SELECT \n",
    "        id,\n",
    "        PERCENTILE_CONT(0.01) WITHIN GROUP (ORDER BY value) AS p1, \n",
    "        PERCENTILE_CONT(0.99) WITHIN GROUP (ORDER BY value) AS p99  \n",
    "    FROM features_cleaned\n",
    "    GROUP BY id\n",
    ")\n",
    "SELECT \n",
    "    f.date,\n",
    "    f.symbol,\n",
    "    f.id,\n",
    "    CASE \n",
    "        WHEN f.value < fp.p1 THEN fp.p1\n",
    "        WHEN f.value > fp.p99 THEN fp.p99\n",
    "        ELSE f.value\n",
    "    END AS value\n",
    "FROM features_cleaned f\n",
    "JOIN feature_percentiles fp ON f.id = fp.id;\n",
    "\"\"\")"
   ]
  },
  {
   "cell_type": "markdown",
   "metadata": {},
   "source": [
    "# IQR * 1.5"
   ]
  },
  {
   "cell_type": "code",
   "execution_count": 4,
   "metadata": {},
   "outputs": [],
   "source": [
    "con.sql(\"\"\"\n",
    "CREATE TABLE features_iqr_id AS\n",
    "WITH feature_iqr AS (\n",
    "    SELECT\n",
    "        id,\n",
    "        PERCENTILE_CONT(0.25) WITHIN GROUP (ORDER BY value) AS q1,\n",
    "        PERCENTILE_CONT(0.75) WITHIN GROUP (ORDER BY value) AS q3,\n",
    "        (PERCENTILE_CONT(0.75) WITHIN GROUP (ORDER BY value) - PERCENTILE_CONT(0.25) WITHIN GROUP (ORDER BY value)) * 1.5 AS iqr_1_5,\n",
    "    FROM features_cleaned\n",
    "    GROUP BY id\n",
    ")\n",
    "SELECT\n",
    "    f.date,\n",
    "    f.symbol,\n",
    "    f.id,\n",
    "    value\n",
    "FROM features_cleaned f\n",
    "JOIN feature_iqr fi ON f.id = fi.id\n",
    "WHERE f.value >= (fi.q1 - fi.iqr_1_5) AND f.value <= (fi.q3 + fi.iqr_1_5);\n",
    "\"\"\")"
   ]
  },
  {
   "cell_type": "markdown",
   "metadata": {},
   "source": [
    "Create table: winsorize by date & id"
   ]
  },
  {
   "cell_type": "code",
   "execution_count": 6,
   "metadata": {},
   "outputs": [],
   "source": [
    "con.sql(\"\"\"\n",
    "CREATE TABLE features_winsorized_id_date AS\n",
    "WITH feature_percentiles AS (\n",
    "    SELECT\n",
    "        date,\n",
    "        id,\n",
    "        PERCENTILE_CONT(0.01) WITHIN GROUP (ORDER BY value) AS p1, \n",
    "        PERCENTILE_CONT(0.99) WITHIN GROUP (ORDER BY value) AS p99  \n",
    "    FROM features_cleaned\n",
    "    GROUP BY date, id\n",
    ")\n",
    "SELECT \n",
    "    f.date,\n",
    "    f.symbol,\n",
    "    f.id,\n",
    "    CASE \n",
    "        WHEN f.value < fp.p1 THEN fp.p1\n",
    "        WHEN f.value > fp.p99 THEN fp.p99\n",
    "        ELSE f.value\n",
    "    END AS value\n",
    "FROM features_cleaned f\n",
    "JOIN feature_percentiles fp ON f.id = fp.id AND f.date = fp.date;\n",
    ";\n",
    "\"\"\")"
   ]
  },
  {
   "cell_type": "markdown",
   "metadata": {},
   "source": [
    "# Z-Score Normalization by Date and ID (Mean and Standard Deviation)"
   ]
  },
  {
   "cell_type": "code",
   "execution_count": null,
   "metadata": {},
   "outputs": [],
   "source": [
    "con.sql(\"\"\"\n",
    "CREATE OR REPLACE TABLE features_normalized2 AS\n",
    "WITH feature_stats AS (\n",
    "    SELECT\n",
    "        date,\n",
    "        id,\n",
    "        AVG(value) AS mean,\n",
    "        STDDEV_POP(value) AS stddev\n",
    "    FROM features_winsorized_id_date\n",
    "    GROUP BY date, id\n",
    ")\n",
    "SELECT\n",
    "    f.date,\n",
    "    f.symbol,\n",
    "    f.id,\n",
    "    case\n",
    "        when f.id in ('dayofweek', 'dayofmonth', 'month', 'dayofyear', 'trend_psar_up_indicator', 'trend_psar_down_indicator') then f.value\n",
    "        when fs.stddev = 0 then 0\n",
    "        else (f.value - fs.mean) / fs.stddev\n",
    "    end AS value\n",
    "FROM features_winsorized_id_date f\n",
    "JOIN feature_stats fs ON f.date = fs.date AND f.id = fs.id;\n",
    "\"\"\")"
   ]
  },
  {
   "cell_type": "markdown",
   "metadata": {},
   "source": [
    "# Z-Score Normalization by Date and ID (Median and IQR)"
   ]
  },
  {
   "cell_type": "code",
   "execution_count": null,
   "metadata": {},
   "outputs": [],
   "source": [
    "# TODO\n",
    "con.sql(\"\"\"\n",
    "WITH feature_stats AS (\n",
    "    -- Calculate the median and IQR for each feature by date\n",
    "    SELECT \n",
    "        date,\n",
    "        id AS feature_id,\n",
    "        PERCENTILE_CONT(0.50) WITHIN GROUP (ORDER BY value) AS median_value,\n",
    "        PERCENTILE_CONT(0.75) WITHIN GROUP (ORDER BY value) \n",
    "            - PERCENTILE_CONT(0.25) WITHIN GROUP (ORDER BY value) AS iqr_value\n",
    "    FROM features\n",
    "    GROUP BY date, id\n",
    "),\n",
    "normalized_features AS (\n",
    "    -- Normalize each feature value using median and IQR\n",
    "    SELECT \n",
    "        f.date,\n",
    "        f.symbol,\n",
    "        f.id AS feature_id,\n",
    "        (f.value - s.median_value) / NULLIF(s.iqr_value, 0) AS normalized_value\n",
    "    FROM features f\n",
    "    JOIN feature_stats s \n",
    "        ON f.date = s.date AND f.id = s.feature_id\n",
    ")\n",
    "-- Select the final normalized dataset\n",
    "SELECT * FROM normalized_features;\n",
    "\n",
    "\"\"\"))"
   ]
  },
  {
   "cell_type": "markdown",
   "metadata": {},
   "source": [
    "# Distribution of Features"
   ]
  },
  {
   "cell_type": "code",
   "execution_count": null,
   "metadata": {},
   "outputs": [
    {
     "data": {
      "text/plain": [
       "['adtv_30d',\n",
       " 'amihud',\n",
       " 'dayofmonth',\n",
       " 'dayofweek',\n",
       " 'dayofyear',\n",
       " 'fwd_return_1m',\n",
       " 'fwd_return_1w',\n",
       " 'fwd_return_3m',\n",
       " 'fwd_return_6m',\n",
       " 'log_price',\n",
       " 'log_volume',\n",
       " 'lottery',\n",
       " 'momentum_10y',\n",
       " 'momentum_12m',\n",
       " 'momentum_12m_1m',\n",
       " 'momentum_1m',\n",
       " 'momentum_3m',\n",
       " 'momentum_5y',\n",
       " 'momentum_6m',\n",
       " 'momentum_9m',\n",
       " 'momentum_ao',\n",
       " 'momentum_kama',\n",
       " 'momentum_ppo',\n",
       " 'momentum_ppo_hist',\n",
       " 'momentum_ppo_signal',\n",
       " 'momentum_pvo',\n",
       " 'momentum_pvo_hist',\n",
       " 'momentum_pvo_signal',\n",
       " 'momentum_roc',\n",
       " 'momentum_rsi',\n",
       " 'momentum_stoch',\n",
       " 'momentum_stoch_rsi',\n",
       " 'momentum_stoch_rsi_d',\n",
       " 'momentum_stoch_rsi_k',\n",
       " 'momentum_stoch_signal',\n",
       " 'momentum_tsi',\n",
       " 'momentum_uo',\n",
       " 'momentum_wr',\n",
       " 'month',\n",
       " 'others_cr',\n",
       " 'others_dlr',\n",
       " 'others_dr',\n",
       " 'price_to_52w_close_high',\n",
       " 'price_to_52w_close_low',\n",
       " 'price_to_52w_high',\n",
       " 'price_to_52w_low',\n",
       " 'trend_adx',\n",
       " 'trend_adx_neg',\n",
       " 'trend_adx_pos',\n",
       " 'trend_aroon_down',\n",
       " 'trend_aroon_ind',\n",
       " 'trend_aroon_up',\n",
       " 'trend_cci',\n",
       " 'trend_dpo',\n",
       " 'trend_ema_fast',\n",
       " 'trend_ema_slow',\n",
       " 'trend_ichimoku_a',\n",
       " 'trend_ichimoku_b',\n",
       " 'trend_ichimoku_base',\n",
       " 'trend_ichimoku_conv',\n",
       " 'trend_kst',\n",
       " 'trend_kst_diff',\n",
       " 'trend_kst_sig',\n",
       " 'trend_macd',\n",
       " 'trend_macd_diff',\n",
       " 'trend_macd_signal',\n",
       " 'trend_mass_index',\n",
       " 'trend_psar_down',\n",
       " 'trend_psar_down_indicator',\n",
       " 'trend_psar_up',\n",
       " 'trend_psar_up_indicator',\n",
       " 'trend_sma_fast',\n",
       " 'trend_sma_slow',\n",
       " 'trend_stc',\n",
       " 'trend_trix',\n",
       " 'trend_visual_ichimoku_a',\n",
       " 'trend_visual_ichimoku_b',\n",
       " 'trend_vortex_ind_diff',\n",
       " 'trend_vortex_ind_neg',\n",
       " 'trend_vortex_ind_pos',\n",
       " 'vol_vo_p_12m',\n",
       " 'vol_vo_p_1m',\n",
       " 'volatility_atr',\n",
       " 'volatility_bbh',\n",
       " 'volatility_bbhi',\n",
       " 'volatility_bbl',\n",
       " 'volatility_bbli',\n",
       " 'volatility_bbm',\n",
       " 'volatility_bbp',\n",
       " 'volatility_bbw',\n",
       " 'volatility_dch',\n",
       " 'volatility_dcl',\n",
       " 'volatility_dcm',\n",
       " 'volatility_dcp',\n",
       " 'volatility_dcw',\n",
       " 'volatility_kcc',\n",
       " 'volatility_kch',\n",
       " 'volatility_kchi',\n",
       " 'volatility_kcl',\n",
       " 'volatility_kcli',\n",
       " 'volatility_kcp',\n",
       " 'volatility_kcw',\n",
       " 'volatility_ui',\n",
       " 'volume_adi',\n",
       " 'volume_cmf',\n",
       " 'volume_em',\n",
       " 'volume_fi',\n",
       " 'volume_mfi',\n",
       " 'volume_nvi',\n",
       " 'volume_obv',\n",
       " 'volume_sma_em',\n",
       " 'volume_vpt',\n",
       " 'volume_vwap',\n",
       " 'vpt',\n",
       " 'wr']"
      ]
     },
     "execution_count": 35,
     "metadata": {},
     "output_type": "execute_result"
    }
   ],
   "source": [
    "columns = con.execute(\"SELECT distinct id FROM features_winsorized_id order by id desc\").fetchall()\n",
    "columns = [col[0] for col in columns]\n",
    "columns"
   ]
  },
  {
   "cell_type": "code",
   "execution_count": 4,
   "metadata": {},
   "outputs": [
    {
     "name": "stderr",
     "output_type": "stream",
     "text": [
      "/var/folders/yd/36_ylc8x7tx33z1ps2l7yr5r0000gn/T/ipykernel_54332/287177429.py:28: RuntimeWarning: divide by zero encountered in scalar divide\n",
      "  num_bins = int((np.max(data) - np.min(data)) / bin_width)\n"
     ]
    },
    {
     "ename": "OverflowError",
     "evalue": "cannot convert float infinity to integer",
     "output_type": "error",
     "traceback": [
      "\u001b[0;31m---------------------------------------------------------------------------\u001b[0m",
      "\u001b[0;31mOverflowError\u001b[0m                             Traceback (most recent call last)",
      "Cell \u001b[0;32mIn[4], line 28\u001b[0m\n\u001b[1;32m     25\u001b[0m bin_width \u001b[38;5;241m=\u001b[39m \u001b[38;5;241m2\u001b[39m \u001b[38;5;241m*\u001b[39m iqr \u001b[38;5;241m/\u001b[39m (\u001b[38;5;28mlen\u001b[39m(data) \u001b[38;5;241m*\u001b[39m\u001b[38;5;241m*\u001b[39m (\u001b[38;5;241m1\u001b[39m\u001b[38;5;241m/\u001b[39m\u001b[38;5;241m3\u001b[39m))\n\u001b[1;32m     27\u001b[0m \u001b[38;5;66;03m# Calculate the number of bins\u001b[39;00m\n\u001b[0;32m---> 28\u001b[0m num_bins \u001b[38;5;241m=\u001b[39m \u001b[38;5;28;43mint\u001b[39;49m\u001b[43m(\u001b[49m\u001b[43m(\u001b[49m\u001b[43mnp\u001b[49m\u001b[38;5;241;43m.\u001b[39;49m\u001b[43mmax\u001b[49m\u001b[43m(\u001b[49m\u001b[43mdata\u001b[49m\u001b[43m)\u001b[49m\u001b[43m \u001b[49m\u001b[38;5;241;43m-\u001b[39;49m\u001b[43m \u001b[49m\u001b[43mnp\u001b[49m\u001b[38;5;241;43m.\u001b[39;49m\u001b[43mmin\u001b[49m\u001b[43m(\u001b[49m\u001b[43mdata\u001b[49m\u001b[43m)\u001b[49m\u001b[43m)\u001b[49m\u001b[43m \u001b[49m\u001b[38;5;241;43m/\u001b[39;49m\u001b[43m \u001b[49m\u001b[43mbin_width\u001b[49m\u001b[43m)\u001b[49m\n\u001b[1;32m     30\u001b[0m \u001b[38;5;66;03m# Plot the histogram\u001b[39;00m\n\u001b[1;32m     31\u001b[0m plt\u001b[38;5;241m.\u001b[39mfigure(figsize\u001b[38;5;241m=\u001b[39m(\u001b[38;5;241m8\u001b[39m, \u001b[38;5;241m4\u001b[39m))\n",
      "\u001b[0;31mOverflowError\u001b[0m: cannot convert float infinity to integer"
     ]
    }
   ],
   "source": [
    "import duckdb\n",
    "import matplotlib.pyplot as plt\n",
    "import pandas as pd\n",
    "import os\n",
    "\n",
    "# Create the img directory if it doesn't exist\n",
    "if not os.path.exists('./img'):\n",
    "    os.makedirs('./img')\n",
    "\n",
    "# Query to get all column names\n",
    "columns = con.execute(\"SELECT distinct id FROM features_winsorized_id order by id desc\").fetchall()\n",
    "columns = [col[0] for col in columns]\n",
    "\n",
    "# Plot distributions\n",
    "import numpy as np\n",
    "\n",
    "for col in columns:\n",
    "    df = con.execute(f\"SELECT value FROM features_winsorized_id where id = '{col}'\").fetchdf()\n",
    "    data = df['value']\n",
    "\n",
    "    # Calculate the IQR (Interquartile Range)\n",
    "    iqr = np.percentile(data, 75) - np.percentile(data, 25)\n",
    "\n",
    "    # Calculate the bin width using the Freedman-Diaconis rule\n",
    "    bin_width = 2 * iqr / (len(data) ** (1/3))\n",
    "\n",
    "    # Calculate the number of bins\n",
    "    num_bins = int((np.max(data) - np.min(data)) / bin_width)\n",
    "\n",
    "    # Plot the histogram\n",
    "    plt.figure(figsize=(8, 4))\n",
    "    plt.hist(data, bins=num_bins, edgecolor='black')\n",
    "    plt.title(f'Distribution of {col}')\n",
    "    plt.xlabel(col)\n",
    "    plt.ylabel('Frequency')\n",
    "    plt.savefig(f'./img/{col}_distribution.png')\n",
    "    plt.close()\n"
   ]
  },
  {
   "cell_type": "markdown",
   "metadata": {},
   "source": [
    "# Close Database Connection"
   ]
  },
  {
   "cell_type": "code",
   "execution_count": 17,
   "metadata": {},
   "outputs": [],
   "source": [
    "con.close()"
   ]
  },
  {
   "cell_type": "code",
   "execution_count": null,
   "metadata": {},
   "outputs": [],
   "source": []
  }
 ],
 "metadata": {
  "kernelspec": {
   "display_name": ".venv",
   "language": "python",
   "name": "python3"
  },
  "language_info": {
   "codemirror_mode": {
    "name": "ipython",
    "version": 3
   },
   "file_extension": ".py",
   "mimetype": "text/x-python",
   "name": "python",
   "nbconvert_exporter": "python",
   "pygments_lexer": "ipython3",
   "version": "3.12.8"
  }
 },
 "nbformat": 4,
 "nbformat_minor": 2
}
