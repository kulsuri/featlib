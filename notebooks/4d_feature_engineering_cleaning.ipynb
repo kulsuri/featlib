{
 "cells": [
  {
   "cell_type": "markdown",
   "metadata": {},
   "source": [
    "# Import Modules"
   ]
  },
  {
   "cell_type": "code",
   "execution_count": 18,
   "metadata": {},
   "outputs": [
    {
     "name": "stdout",
     "output_type": "stream",
     "text": [
      "The sql extension is already loaded. To reload it, use:\n",
      "  %reload_ext sql\n"
     ]
    }
   ],
   "source": [
    "import duckdb\n",
    "import pandas as pd\n",
    "import matplotlib.pyplot as plt\n",
    "%load_ext sql"
   ]
  },
  {
   "cell_type": "markdown",
   "metadata": {},
   "source": [
    "# Connect to Local Database"
   ]
  },
  {
   "cell_type": "code",
   "execution_count": 19,
   "metadata": {},
   "outputs": [],
   "source": [
    "# Create connection to local duckdb database\n",
    "con = duckdb.connect('../db/duck.db')\n",
    "%sql con --alias duckdb"
   ]
  },
  {
   "cell_type": "markdown",
   "metadata": {},
   "source": [
    "# Fix NaN and Inf Values"
   ]
  },
  {
   "cell_type": "markdown",
   "metadata": {},
   "source": [
    "Features with NaNs"
   ]
  },
  {
   "cell_type": "code",
   "execution_count": null,
   "metadata": {},
   "outputs": [
    {
     "data": {
      "text/html": [
       "<span style=\"None\">Running query in &#x27;duckdb&#x27;</span>"
      ],
      "text/plain": [
       "Running query in 'duckdb'"
      ]
     },
     "metadata": {},
     "output_type": "display_data"
    },
    {
     "data": {
      "text/html": [
       "<table>\n",
       "    <thead>\n",
       "        <tr>\n",
       "            <th>id</th>\n",
       "            <th>count_nan_rows</th>\n",
       "            <th>count_all_rows</th>\n",
       "            <th>percentage_nan</th>\n",
       "        </tr>\n",
       "    </thead>\n",
       "    <tbody>\n",
       "        <tr>\n",
       "            <td>wr</td>\n",
       "            <td>17770</td>\n",
       "            <td>19777042</td>\n",
       "            <td>0.0009</td>\n",
       "        </tr>\n",
       "    </tbody>\n",
       "</table>"
      ],
      "text/plain": [
       "+----+----------------+----------------+----------------+\n",
       "| id | count_nan_rows | count_all_rows | percentage_nan |\n",
       "+----+----------------+----------------+----------------+\n",
       "| wr |     17770      |    19777042    |     0.0009     |\n",
       "+----+----------------+----------------+----------------+"
      ]
     },
     "execution_count": 19,
     "metadata": {},
     "output_type": "execute_result"
    }
   ],
   "source": [
    "%%sql\n",
    "with count_nan as (\n",
    "    select id, count(*) as count_nan_rows from features_raw where isnan(value) = true group by id\n",
    "),\n",
    "count_all as (\n",
    "    select id, count(*) as count_all_rows from features_raw group by id\n",
    ")\n",
    "select *, round(count_nan_rows/count_all_rows, 4) as percentage_nan from count_nan join count_all using(id) order by count_nan desc;"
   ]
  },
  {
   "cell_type": "markdown",
   "metadata": {},
   "source": [
    "Features with Infs"
   ]
  },
  {
   "cell_type": "code",
   "execution_count": null,
   "metadata": {},
   "outputs": [
    {
     "data": {
      "text/html": [
       "<span style=\"None\">Running query in &#x27;duckdb&#x27;</span>"
      ],
      "text/plain": [
       "Running query in 'duckdb'"
      ]
     },
     "metadata": {},
     "output_type": "display_data"
    },
    {
     "data": {
      "text/html": [
       "<table>\n",
       "    <thead>\n",
       "        <tr>\n",
       "            <th>id</th>\n",
       "            <th>count_inf_rows</th>\n",
       "            <th>count_all_rows</th>\n",
       "            <th>percentage_inf</th>\n",
       "        </tr>\n",
       "    </thead>\n",
       "    <tbody>\n",
       "        <tr>\n",
       "            <td>volume_adi</td>\n",
       "            <td>314481</td>\n",
       "            <td>19312694</td>\n",
       "            <td>0.0163</td>\n",
       "        </tr>\n",
       "        <tr>\n",
       "            <td>volatility_kcp</td>\n",
       "            <td>5250</td>\n",
       "            <td>19772677</td>\n",
       "            <td>0.0003</td>\n",
       "        </tr>\n",
       "        <tr>\n",
       "            <td>trend_vortex_ind_pos</td>\n",
       "            <td>13</td>\n",
       "            <td>19613197</td>\n",
       "            <td>0.0</td>\n",
       "        </tr>\n",
       "        <tr>\n",
       "            <td>trend_vortex_ind_neg</td>\n",
       "            <td>59</td>\n",
       "            <td>19613243</td>\n",
       "            <td>0.0</td>\n",
       "        </tr>\n",
       "        <tr>\n",
       "            <td>momentum_wr</td>\n",
       "            <td>4</td>\n",
       "            <td>19624666</td>\n",
       "            <td>0.0</td>\n",
       "        </tr>\n",
       "        <tr>\n",
       "            <td>momentum_uo</td>\n",
       "            <td>1</td>\n",
       "            <td>19449230</td>\n",
       "            <td>0.0</td>\n",
       "        </tr>\n",
       "        <tr>\n",
       "            <td>momentum_stoch</td>\n",
       "            <td>4</td>\n",
       "            <td>19624666</td>\n",
       "            <td>0.0</td>\n",
       "        </tr>\n",
       "    </tbody>\n",
       "</table>"
      ],
      "text/plain": [
       "+----------------------+----------------+----------------+----------------+\n",
       "|          id          | count_inf_rows | count_all_rows | percentage_inf |\n",
       "+----------------------+----------------+----------------+----------------+\n",
       "|      volume_adi      |     314481     |    19312694    |     0.0163     |\n",
       "|    volatility_kcp    |      5250      |    19772677    |     0.0003     |\n",
       "| trend_vortex_ind_pos |       13       |    19613197    |      0.0       |\n",
       "| trend_vortex_ind_neg |       59       |    19613243    |      0.0       |\n",
       "|     momentum_wr      |       4        |    19624666    |      0.0       |\n",
       "|     momentum_uo      |       1        |    19449230    |      0.0       |\n",
       "|    momentum_stoch    |       4        |    19624666    |      0.0       |\n",
       "+----------------------+----------------+----------------+----------------+"
      ]
     },
     "execution_count": 20,
     "metadata": {},
     "output_type": "execute_result"
    }
   ],
   "source": [
    "%%sql\n",
    "with count_inf as (\n",
    "    select id, count(*) as count_inf_rows from features_raw where isinf(value) = true group by id\n",
    "),\n",
    "count_all as (\n",
    "    select id, count(*) as count_all_rows from features_raw group by id\n",
    ")\n",
    "select *, round(count_inf_rows/count_all_rows, 4) as percentage_inf from count_inf join count_all using(id) order by count_inf desc;"
   ]
  },
  {
   "cell_type": "markdown",
   "metadata": {},
   "source": [
    "Calculate the median for each feature ID"
   ]
  },
  {
   "cell_type": "code",
   "execution_count": null,
   "metadata": {},
   "outputs": [
    {
     "data": {
      "text/html": [
       "<span style=\"None\">Running query in &#x27;duckdb&#x27;</span>"
      ],
      "text/plain": [
       "Running query in 'duckdb'"
      ]
     },
     "metadata": {},
     "output_type": "display_data"
    },
    {
     "data": {
      "text/html": [
       "<table>\n",
       "    <thead>\n",
       "        <tr>\n",
       "            <th>id</th>\n",
       "            <th>median</th>\n",
       "        </tr>\n",
       "    </thead>\n",
       "    <tbody>\n",
       "        <tr>\n",
       "            <td>volume_em</td>\n",
       "            <td>0.0</td>\n",
       "        </tr>\n",
       "        <tr>\n",
       "            <td>volatility_bbhi</td>\n",
       "            <td>0.0</td>\n",
       "        </tr>\n",
       "        <tr>\n",
       "            <td>momentum_12m</td>\n",
       "            <td>0.016819571865443337</td>\n",
       "        </tr>\n",
       "        <tr>\n",
       "            <td>trend_ichimoku_base</td>\n",
       "            <td>25.295</td>\n",
       "        </tr>\n",
       "        <tr>\n",
       "            <td>trend_sma_slow</td>\n",
       "            <td>25.275769230769228</td>\n",
       "        </tr>\n",
       "        <tr>\n",
       "            <td>momentum_ao</td>\n",
       "            <td>0.025176470588235134</td>\n",
       "        </tr>\n",
       "        <tr>\n",
       "            <td>volume_vwap</td>\n",
       "            <td>25.231799843847995</td>\n",
       "        </tr>\n",
       "        <tr>\n",
       "            <td>others_cr</td>\n",
       "            <td>4.290617848970246</td>\n",
       "        </tr>\n",
       "        <tr>\n",
       "            <td>log_price</td>\n",
       "            <td>1.401228167498113</td>\n",
       "        </tr>\n",
       "        <tr>\n",
       "            <td>trend_visual_ichimoku_a</td>\n",
       "            <td>25.314999999999998</td>\n",
       "        </tr>\n",
       "    </tbody>\n",
       "</table>\n",
       "<span style=\"font-style:italic;text-align:center;\">Truncated to <a href=\"https://jupysql.ploomber.io/en/latest/api/configuration.html#displaylimit\">displaylimit</a> of 10.</span>"
      ],
      "text/plain": [
       "+-------------------------+----------------------+\n",
       "|            id           |        median        |\n",
       "+-------------------------+----------------------+\n",
       "|        volume_em        |         0.0          |\n",
       "|     volatility_bbhi     |         0.0          |\n",
       "|       momentum_12m      | 0.016819571865443337 |\n",
       "|   trend_ichimoku_base   |        25.295        |\n",
       "|      trend_sma_slow     |  25.275769230769228  |\n",
       "|       momentum_ao       | 0.025176470588235134 |\n",
       "|       volume_vwap       |  25.231799843847995  |\n",
       "|        others_cr        |  4.290617848970246   |\n",
       "|        log_price        |  1.401228167498113   |\n",
       "| trend_visual_ichimoku_a |  25.314999999999998  |\n",
       "+-------------------------+----------------------+\n",
       "Truncated to displaylimit of 10."
      ]
     },
     "execution_count": 16,
     "metadata": {},
     "output_type": "execute_result"
    }
   ],
   "source": [
    "%%sql\n",
    "select\n",
    "    id, \n",
    "    median(value) as median\n",
    "from features_raw\n",
    "where isnan(value) = false and isinf(value) = false\n",
    "group by id"
   ]
  },
  {
   "cell_type": "markdown",
   "metadata": {},
   "source": [
    "Replace NaNs and Infs with the median for the corresponding feature ID"
   ]
  },
  {
   "cell_type": "code",
   "execution_count": null,
   "metadata": {},
   "outputs": [
    {
     "data": {
      "text/html": [
       "<span style=\"None\">Running query in &#x27;duckdb&#x27;</span>"
      ],
      "text/plain": [
       "Running query in 'duckdb'"
      ]
     },
     "metadata": {},
     "output_type": "display_data"
    },
    {
     "data": {
      "text/html": [
       "<table>\n",
       "    <thead>\n",
       "        <tr>\n",
       "            <th>date</th>\n",
       "            <th>symbol</th>\n",
       "            <th>id</th>\n",
       "            <th>value</th>\n",
       "        </tr>\n",
       "    </thead>\n",
       "    <tbody>\n",
       "        <tr>\n",
       "            <td>2023-04-06</td>\n",
       "            <td>GSEW</td>\n",
       "            <td>volatility_bbhi</td>\n",
       "            <td>0.0</td>\n",
       "        </tr>\n",
       "        <tr>\n",
       "            <td>2023-04-11</td>\n",
       "            <td>GSEW</td>\n",
       "            <td>trend_sma_slow</td>\n",
       "            <td>58.77923076923078</td>\n",
       "        </tr>\n",
       "        <tr>\n",
       "            <td>2023-04-11</td>\n",
       "            <td>GSEW</td>\n",
       "            <td>momentum_roc</td>\n",
       "            <td>4.262692774215909</td>\n",
       "        </tr>\n",
       "        <tr>\n",
       "            <td>2023-04-21</td>\n",
       "            <td>GSEW</td>\n",
       "            <td>volatility_kch</td>\n",
       "            <td>60.687333333333335</td>\n",
       "        </tr>\n",
       "        <tr>\n",
       "            <td>2023-04-24</td>\n",
       "            <td>GSEW</td>\n",
       "            <td>momentum_stoch</td>\n",
       "            <td>67.7018633540372</td>\n",
       "        </tr>\n",
       "        <tr>\n",
       "            <td>2023-04-25</td>\n",
       "            <td>GSEW</td>\n",
       "            <td>momentum_stoch</td>\n",
       "            <td>0.0</td>\n",
       "        </tr>\n",
       "        <tr>\n",
       "            <td>2023-04-28</td>\n",
       "            <td>GSEW</td>\n",
       "            <td>volatility_dcp</td>\n",
       "            <td>0.6410256410256401</td>\n",
       "        </tr>\n",
       "        <tr>\n",
       "            <td>2023-05-02</td>\n",
       "            <td>GSEW</td>\n",
       "            <td>high</td>\n",
       "            <td>59.71</td>\n",
       "        </tr>\n",
       "        <tr>\n",
       "            <td>2023-05-04</td>\n",
       "            <td>GSEW</td>\n",
       "            <td>trend_kst_diff</td>\n",
       "            <td>-8.518817136667053</td>\n",
       "        </tr>\n",
       "        <tr>\n",
       "            <td>2023-05-05</td>\n",
       "            <td>GSEW</td>\n",
       "            <td>volatility_kcp</td>\n",
       "            <td>0.4192580469176245</td>\n",
       "        </tr>\n",
       "    </tbody>\n",
       "</table>\n",
       "<span style=\"font-style:italic;text-align:center;\">Truncated to <a href=\"https://jupysql.ploomber.io/en/latest/api/configuration.html#displaylimit\">displaylimit</a> of 10.</span>"
      ],
      "text/plain": [
       "+------------+--------+-----------------+--------------------+\n",
       "|    date    | symbol |        id       |       value        |\n",
       "+------------+--------+-----------------+--------------------+\n",
       "| 2023-04-06 |  GSEW  | volatility_bbhi |        0.0         |\n",
       "| 2023-04-11 |  GSEW  |  trend_sma_slow | 58.77923076923078  |\n",
       "| 2023-04-11 |  GSEW  |   momentum_roc  | 4.262692774215909  |\n",
       "| 2023-04-21 |  GSEW  |  volatility_kch | 60.687333333333335 |\n",
       "| 2023-04-24 |  GSEW  |  momentum_stoch |  67.7018633540372  |\n",
       "| 2023-04-25 |  GSEW  |  momentum_stoch |        0.0         |\n",
       "| 2023-04-28 |  GSEW  |  volatility_dcp | 0.6410256410256401 |\n",
       "| 2023-05-02 |  GSEW  |       high      |       59.71        |\n",
       "| 2023-05-04 |  GSEW  |  trend_kst_diff | -8.518817136667053 |\n",
       "| 2023-05-05 |  GSEW  |  volatility_kcp | 0.4192580469176245 |\n",
       "+------------+--------+-----------------+--------------------+\n",
       "Truncated to displaylimit of 10."
      ]
     },
     "execution_count": 16,
     "metadata": {},
     "output_type": "execute_result"
    }
   ],
   "source": [
    "%%sql\n",
    "with median_values as (\n",
    "    select \n",
    "        id, \n",
    "        median(value) as median\n",
    "    from features_raw \n",
    "    where isnan(value) = false and isinf(value) = false group by id\n",
    ")\n",
    "select \n",
    "    date,\n",
    "    symbol,\n",
    "    id,\n",
    "    case\n",
    "        when isnan(value) = true then median\n",
    "        when isinf(value) = true then median\n",
    "        else value\n",
    "    end as value\n",
    "from features_raw \n",
    "join median_values using(id)"
   ]
  },
  {
   "cell_type": "markdown",
   "metadata": {},
   "source": [
    "# Create Table"
   ]
  },
  {
   "cell_type": "code",
   "execution_count": null,
   "metadata": {},
   "outputs": [],
   "source": [
    "con.sql(\"\"\"\n",
    "create or replace table features_cleaned as (\n",
    "    with median_values as (\n",
    "    select \n",
    "        id, \n",
    "        median(value) as median\n",
    "    from features_raw \n",
    "    where isnan(value) = false and isinf(value) = false group by id\n",
    "    )\n",
    "    select \n",
    "        date,\n",
    "        symbol,\n",
    "        id,\n",
    "        case\n",
    "            when isnan(value) = true then median\n",
    "            when isinf(value) = true then median\n",
    "            else value\n",
    "        end as value\n",
    "    from features \n",
    "    join median_values using(id)\n",
    ")\n",
    "\"\"\")"
   ]
  },
  {
   "cell_type": "markdown",
   "metadata": {},
   "source": [
    "# Data Checks"
   ]
  },
  {
   "cell_type": "markdown",
   "metadata": {},
   "source": [
    "Check row counts"
   ]
  },
  {
   "cell_type": "code",
   "execution_count": null,
   "metadata": {},
   "outputs": [
    {
     "data": {
      "text/html": [
       "<span style=\"None\">Running query in &#x27;duckdb&#x27;</span>"
      ],
      "text/plain": [
       "Running query in 'duckdb'"
      ]
     },
     "metadata": {},
     "output_type": "display_data"
    },
    {
     "data": {
      "text/html": [
       "<table>\n",
       "    <thead>\n",
       "        <tr>\n",
       "            <th>count_star()</th>\n",
       "        </tr>\n",
       "    </thead>\n",
       "    <tbody>\n",
       "        <tr>\n",
       "            <td>2299537684</td>\n",
       "        </tr>\n",
       "        <tr>\n",
       "            <td>2299537684</td>\n",
       "        </tr>\n",
       "    </tbody>\n",
       "</table>"
      ],
      "text/plain": [
       "+--------------+\n",
       "| count_star() |\n",
       "+--------------+\n",
       "|  2299537684  |\n",
       "|  2299537684  |\n",
       "+--------------+"
      ]
     },
     "execution_count": 7,
     "metadata": {},
     "output_type": "execute_result"
    }
   ],
   "source": [
    "%%sql\n",
    "select count(*) from features_cleaned\n",
    "union all\n",
    "select count(*) from features_raw"
   ]
  },
  {
   "cell_type": "markdown",
   "metadata": {},
   "source": [
    "Check for NaNs"
   ]
  },
  {
   "cell_type": "code",
   "execution_count": 9,
   "metadata": {},
   "outputs": [
    {
     "data": {
      "text/html": [
       "<span style=\"None\">Running query in &#x27;duckdb&#x27;</span>"
      ],
      "text/plain": [
       "Running query in 'duckdb'"
      ]
     },
     "metadata": {},
     "output_type": "display_data"
    },
    {
     "data": {
      "text/html": [
       "<table>\n",
       "    <thead>\n",
       "        <tr>\n",
       "            <th>id</th>\n",
       "            <th>count_nan_rows</th>\n",
       "        </tr>\n",
       "    </thead>\n",
       "    <tbody>\n",
       "    </tbody>\n",
       "</table>"
      ],
      "text/plain": [
       "+----+----------------+\n",
       "| id | count_nan_rows |\n",
       "+----+----------------+\n",
       "+----+----------------+"
      ]
     },
     "execution_count": 9,
     "metadata": {},
     "output_type": "execute_result"
    }
   ],
   "source": [
    "%%sql\n",
    "select id, count(*) as count_nan_rows from features_cleaned where isnan(value) = true group by id\n"
   ]
  },
  {
   "cell_type": "markdown",
   "metadata": {},
   "source": [
    "Check for Infs"
   ]
  },
  {
   "cell_type": "code",
   "execution_count": 10,
   "metadata": {},
   "outputs": [
    {
     "data": {
      "text/html": [
       "<span style=\"None\">Running query in &#x27;duckdb&#x27;</span>"
      ],
      "text/plain": [
       "Running query in 'duckdb'"
      ]
     },
     "metadata": {},
     "output_type": "display_data"
    },
    {
     "data": {
      "text/html": [
       "<table>\n",
       "    <thead>\n",
       "        <tr>\n",
       "            <th>id</th>\n",
       "            <th>count_inf_rows</th>\n",
       "        </tr>\n",
       "    </thead>\n",
       "    <tbody>\n",
       "    </tbody>\n",
       "</table>"
      ],
      "text/plain": [
       "+----+----------------+\n",
       "| id | count_inf_rows |\n",
       "+----+----------------+\n",
       "+----+----------------+"
      ]
     },
     "execution_count": 10,
     "metadata": {},
     "output_type": "execute_result"
    }
   ],
   "source": [
    "%%sql\n",
    "select id, count(*) as count_inf_rows from features_cleaned where isinf(value) = true group by id"
   ]
  },
  {
   "cell_type": "markdown",
   "metadata": {},
   "source": [
    "# Close Database Connection"
   ]
  },
  {
   "cell_type": "code",
   "execution_count": 17,
   "metadata": {},
   "outputs": [],
   "source": [
    "con.close()"
   ]
  }
 ],
 "metadata": {
  "kernelspec": {
   "display_name": ".venv",
   "language": "python",
   "name": "python3"
  },
  "language_info": {
   "codemirror_mode": {
    "name": "ipython",
    "version": 3
   },
   "file_extension": ".py",
   "mimetype": "text/x-python",
   "name": "python",
   "nbconvert_exporter": "python",
   "pygments_lexer": "ipython3",
   "version": "3.12.8"
  }
 },
 "nbformat": 4,
 "nbformat_minor": 2
}
