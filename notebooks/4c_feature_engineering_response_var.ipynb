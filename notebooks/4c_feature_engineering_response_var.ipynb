{
 "cells": [
  {
   "cell_type": "markdown",
   "metadata": {},
   "source": [
    "# Import Modules"
   ]
  },
  {
   "cell_type": "code",
   "execution_count": 1,
   "metadata": {},
   "outputs": [
    {
     "data": {
      "text/html": [
       "<span style=\"None\">Tip: You may define configurations in /Users/kul/Dev/featlib/pyproject.toml or /Users/kul/.jupysql/config. </span>"
      ],
      "text/plain": [
       "Tip: You may define configurations in /Users/kul/Dev/featlib/pyproject.toml or /Users/kul/.jupysql/config. "
      ]
     },
     "metadata": {},
     "output_type": "display_data"
    },
    {
     "data": {
      "text/html": [
       "Please review our <a href='https://jupysql.ploomber.io/en/latest/api/configuration.html#loading-from-a-file'>configuration guideline</a>."
      ],
      "text/plain": [
       "<IPython.core.display.HTML object>"
      ]
     },
     "metadata": {},
     "output_type": "display_data"
    },
    {
     "data": {
      "text/html": [
       "<span style=\"None\">Did not find user configurations in /Users/kul/Dev/featlib/pyproject.toml.</span>"
      ],
      "text/plain": [
       "Did not find user configurations in /Users/kul/Dev/featlib/pyproject.toml."
      ]
     },
     "metadata": {},
     "output_type": "display_data"
    }
   ],
   "source": [
    "import duckdb\n",
    "import pandas as pd\n",
    "%load_ext sql"
   ]
  },
  {
   "cell_type": "markdown",
   "metadata": {},
   "source": [
    "# Connect to Local Database"
   ]
  },
  {
   "cell_type": "code",
   "execution_count": 2,
   "metadata": {},
   "outputs": [],
   "source": [
    "\n",
    "# Create connection to local duckdb database\n",
    "con = duckdb.connect('../db/duck.db')\n",
    "%sql con --alias duckdb"
   ]
  },
  {
   "cell_type": "markdown",
   "metadata": {},
   "source": [
    "# Create Features"
   ]
  },
  {
   "cell_type": "code",
   "execution_count": null,
   "metadata": {},
   "outputs": [],
   "source": [
    "query =\"\"\"\n",
    "CREATE OR REPLACE TEMP TABLE tmp_feat_response AS (\n",
    "    WITH price AS (\n",
    "        SELECT\n",
    "            *,\n",
    "        FROM pricing\n",
    "        order by act_symbol, date\n",
    "    ),\n",
    "    resp AS (\n",
    "        SELECT\n",
    "            date_trunc('day', date) AS date, \n",
    "            act_symbol,\n",
    "            (LEAD(close, 5) OVER (PARTITION BY act_symbol ORDER BY date ASC) - close) / close AS fwd_return_1w,\n",
    "            (LEAD(close, 21) OVER (PARTITION BY act_symbol ORDER BY date ASC) - close) / close AS fwd_return_1m,\n",
    "            (LEAD(close, 63) OVER (PARTITION BY act_symbol ORDER BY date ASC) - close) / close AS fwd_return_3m,\n",
    "            (LEAD(close, 126) OVER (PARTITION BY act_symbol ORDER BY date ASC) - close) / close AS fwd_return_6m,\n",
    "        FROM price\n",
    "    )\n",
    "    select *\n",
    "    from resp\n",
    ");\n",
    "\"\"\"\n",
    "\n",
    "con.sql(query)"
   ]
  },
  {
   "cell_type": "markdown",
   "metadata": {},
   "source": [
    "Unpivot momentum features (horiz -> vert) and insert into table"
   ]
  },
  {
   "cell_type": "code",
   "execution_count": 21,
   "metadata": {},
   "outputs": [],
   "source": [
    "con.sql(\"\"\"\n",
    "CREATE OR REPLACE TABLE features_v_res AS (\n",
    "    with cte as (\n",
    "        UNPIVOT tmp_feat_response\n",
    "        ON COLUMNS(* EXCLUDE (date, act_symbol))\n",
    "        INTO\n",
    "            NAME id\n",
    "            VALUE value\n",
    "    )\n",
    "    select \n",
    "        date_trunc('day',date) as date, \n",
    "        act_symbol as symbol,\n",
    "        id,\n",
    "        value\n",
    "    from cte\n",
    ")\n",
    "\"\"\"\n",
    ")"
   ]
  },
  {
   "cell_type": "markdown",
   "metadata": {},
   "source": [
    "Merge into features table"
   ]
  },
  {
   "cell_type": "code",
   "execution_count": null,
   "metadata": {},
   "outputs": [],
   "source": [
    "con.sql(\"\"\"\n",
    "INSERT INTO features_raw\n",
    "    SELECT * from features_v_res\n",
    "\"\"\")\n"
   ]
  },
  {
   "cell_type": "markdown",
   "metadata": {},
   "source": [
    "Check merge executed successfully"
   ]
  },
  {
   "cell_type": "code",
   "execution_count": 43,
   "metadata": {},
   "outputs": [
    {
     "data": {
      "text/html": [
       "<span style=\"None\">Running query in &#x27;duckdb&#x27;</span>"
      ],
      "text/plain": [
       "Running query in 'duckdb'"
      ]
     },
     "metadata": {},
     "output_type": "display_data"
    },
    {
     "data": {
      "text/html": [
       "<table>\n",
       "    <thead>\n",
       "        <tr>\n",
       "            <th>count_star()</th>\n",
       "        </tr>\n",
       "    </thead>\n",
       "    <tbody>\n",
       "        <tr>\n",
       "            <td>76647608</td>\n",
       "        </tr>\n",
       "    </tbody>\n",
       "</table>"
      ],
      "text/plain": [
       "+--------------+\n",
       "| count_star() |\n",
       "+--------------+\n",
       "|   76647608   |\n",
       "+--------------+"
      ]
     },
     "execution_count": 43,
     "metadata": {},
     "output_type": "execute_result"
    }
   ],
   "source": [
    "%%sql\n",
    "select count(*) from features_v_res"
   ]
  },
  {
   "cell_type": "code",
   "execution_count": 44,
   "metadata": {},
   "outputs": [
    {
     "data": {
      "text/html": [
       "<span style=\"None\">Running query in &#x27;duckdb&#x27;</span>"
      ],
      "text/plain": [
       "Running query in 'duckdb'"
      ]
     },
     "metadata": {},
     "output_type": "display_data"
    },
    {
     "data": {
      "text/html": [
       "<table>\n",
       "    <thead>\n",
       "        <tr>\n",
       "            <th>count_star()</th>\n",
       "        </tr>\n",
       "    </thead>\n",
       "    <tbody>\n",
       "        <tr>\n",
       "            <td>76647608</td>\n",
       "        </tr>\n",
       "    </tbody>\n",
       "</table>"
      ],
      "text/plain": [
       "+--------------+\n",
       "| count_star() |\n",
       "+--------------+\n",
       "|   76647608   |\n",
       "+--------------+"
      ]
     },
     "execution_count": 44,
     "metadata": {},
     "output_type": "execute_result"
    }
   ],
   "source": [
    "%%sql\n",
    "select count(*) from features where id in ('fwd_return_1w', 'fwd_return_1m', 'fwd_return_3m', 'fwd_return_6m')"
   ]
  },
  {
   "cell_type": "markdown",
   "metadata": {},
   "source": [
    "# Close Database Connection"
   ]
  },
  {
   "cell_type": "code",
   "execution_count": 45,
   "metadata": {},
   "outputs": [],
   "source": [
    "con.close()"
   ]
  }
 ],
 "metadata": {
  "kernelspec": {
   "display_name": ".venv",
   "language": "python",
   "name": "python3"
  },
  "language_info": {
   "codemirror_mode": {
    "name": "ipython",
    "version": 3
   },
   "file_extension": ".py",
   "mimetype": "text/x-python",
   "name": "python",
   "nbconvert_exporter": "python",
   "pygments_lexer": "ipython3",
   "version": "3.12.8"
  }
 },
 "nbformat": 4,
 "nbformat_minor": 2
}
