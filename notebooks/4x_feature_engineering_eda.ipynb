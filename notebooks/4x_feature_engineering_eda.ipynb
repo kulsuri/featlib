{
 "cells": [
  {
   "cell_type": "markdown",
   "metadata": {},
   "source": [
    "# Import Modules"
   ]
  },
  {
   "cell_type": "code",
   "execution_count": 32,
   "metadata": {},
   "outputs": [
    {
     "name": "stdout",
     "output_type": "stream",
     "text": [
      "The sql extension is already loaded. To reload it, use:\n",
      "  %reload_ext sql\n"
     ]
    }
   ],
   "source": [
    "import duckdb\n",
    "import pandas as pd\n",
    "import matplotlib.pyplot as plt\n",
    "import seaborn as sns\n",
    "%load_ext sql"
   ]
  },
  {
   "cell_type": "markdown",
   "metadata": {},
   "source": [
    "# Connect to Local Database"
   ]
  },
  {
   "cell_type": "code",
   "execution_count": 33,
   "metadata": {},
   "outputs": [],
   "source": [
    "\n",
    "# Create connection to local duckdb database\n",
    "con = duckdb.connect('../db/duck.db')\n",
    "%sql con --alias duckdb"
   ]
  },
  {
   "cell_type": "markdown",
   "metadata": {},
   "source": [
    "# Exploratory Analysis"
   ]
  },
  {
   "cell_type": "markdown",
   "metadata": {},
   "source": [
    "### NaN, Null & Inf Values"
   ]
  },
  {
   "cell_type": "markdown",
   "metadata": {},
   "source": [
    "Null values"
   ]
  },
  {
   "cell_type": "code",
   "execution_count": 34,
   "metadata": {},
   "outputs": [
    {
     "data": {
      "text/html": [
       "<span style=\"None\">Running query in &#x27;duckdb&#x27;</span>"
      ],
      "text/plain": [
       "Running query in 'duckdb'"
      ]
     },
     "metadata": {},
     "output_type": "display_data"
    },
    {
     "data": {
      "text/html": [
       "<table>\n",
       "    <thead>\n",
       "        <tr>\n",
       "            <th>date</th>\n",
       "            <th>symbol</th>\n",
       "            <th>id</th>\n",
       "            <th>value</th>\n",
       "        </tr>\n",
       "    </thead>\n",
       "    <tbody>\n",
       "    </tbody>\n",
       "</table>"
      ],
      "text/plain": [
       "+------+--------+----+-------+\n",
       "| date | symbol | id | value |\n",
       "+------+--------+----+-------+\n",
       "+------+--------+----+-------+"
      ]
     },
     "execution_count": 34,
     "metadata": {},
     "output_type": "execute_result"
    }
   ],
   "source": [
    "%%sql\n",
    "select * from features_normalized where value is null"
   ]
  },
  {
   "cell_type": "markdown",
   "metadata": {},
   "source": [
    "Inf values"
   ]
  },
  {
   "cell_type": "code",
   "execution_count": 36,
   "metadata": {},
   "outputs": [
    {
     "data": {
      "text/html": [
       "<span style=\"None\">Running query in &#x27;duckdb&#x27;</span>"
      ],
      "text/plain": [
       "Running query in 'duckdb'"
      ]
     },
     "metadata": {},
     "output_type": "display_data"
    },
    {
     "data": {
      "text/html": [
       "<table>\n",
       "    <thead>\n",
       "        <tr>\n",
       "            <th>id</th>\n",
       "            <th>count_inf_rows</th>\n",
       "            <th>count_all_rows</th>\n",
       "            <th>percentage_inf</th>\n",
       "        </tr>\n",
       "    </thead>\n",
       "    <tbody>\n",
       "    </tbody>\n",
       "</table>"
      ],
      "text/plain": [
       "+----+----------------+----------------+----------------+\n",
       "| id | count_inf_rows | count_all_rows | percentage_inf |\n",
       "+----+----------------+----------------+----------------+\n",
       "+----+----------------+----------------+----------------+"
      ]
     },
     "execution_count": 36,
     "metadata": {},
     "output_type": "execute_result"
    }
   ],
   "source": [
    "%%sql\n",
    "with count_inf as (\n",
    "    select id, count(*) as count_inf_rows from features_normalized where isinf(value) = true group by id\n",
    "),\n",
    "count_all as (\n",
    "    select id, count(*) as count_all_rows from features_normalized group by id\n",
    ")\n",
    "select *, round(count_inf_rows/count_all_rows, 4) as percentage_inf from count_inf join count_all using(id) order by count_inf desc"
   ]
  },
  {
   "cell_type": "markdown",
   "metadata": {},
   "source": [
    "NaN values"
   ]
  },
  {
   "cell_type": "code",
   "execution_count": 37,
   "metadata": {},
   "outputs": [
    {
     "data": {
      "text/html": [
       "<span style=\"None\">Running query in &#x27;duckdb&#x27;</span>"
      ],
      "text/plain": [
       "Running query in 'duckdb'"
      ]
     },
     "metadata": {},
     "output_type": "display_data"
    },
    {
     "data": {
      "text/html": [
       "<table>\n",
       "    <thead>\n",
       "        <tr>\n",
       "            <th>id</th>\n",
       "            <th>count_nan_rows</th>\n",
       "            <th>count_all_rows</th>\n",
       "            <th>percentage_nan</th>\n",
       "        </tr>\n",
       "    </thead>\n",
       "    <tbody>\n",
       "    </tbody>\n",
       "</table>"
      ],
      "text/plain": [
       "+----+----------------+----------------+----------------+\n",
       "| id | count_nan_rows | count_all_rows | percentage_nan |\n",
       "+----+----------------+----------------+----------------+\n",
       "+----+----------------+----------------+----------------+"
      ]
     },
     "execution_count": 37,
     "metadata": {},
     "output_type": "execute_result"
    }
   ],
   "source": [
    "%%sql\n",
    "with count_nan as (\n",
    "    select id, count(*) as count_nan_rows from features_normalized where isnan(value) = true group by id\n",
    "),\n",
    "count_all as (\n",
    "    select id, count(*) as count_all_rows from features_normalized group by id\n",
    ")\n",
    "select *, round(count_nan_rows/count_all_rows, 4) as percentage_nan from count_nan join count_all using(id) order by count_nan desc"
   ]
  },
  {
   "cell_type": "markdown",
   "metadata": {},
   "source": [
    "### Distribution of Data"
   ]
  },
  {
   "cell_type": "code",
   "execution_count": 21,
   "metadata": {},
   "outputs": [
    {
     "data": {
      "image/png": "[encoded data removed]",
      "text/plain": [
       "<Figure size 640x480 with 1 Axes>"
      ]
     },
     "metadata": {},
     "output_type": "display_data"
    }
   ],
   "source": [
    "feature = 'fwd_return_3m'\n",
    "# table = 'features_raw'\n",
    "table = 'features_cleaned'\n",
    "# table = 'features_winsorized_id'\n",
    "# table = 'features_normalized'\n",
    "\n",
    "\n",
    "# Query the data\n",
    "query = f\"\"\"\n",
    "SELECT value\n",
    "FROM {table}\n",
    "WHERE id = '{feature}' \n",
    "--AND date = '2021-01-04'\n",
    "--and isinf(value) != true;\n",
    "\"\"\"\n",
    "df = con.execute(query).fetchdf()\n",
    "\n",
    "# Display the first few rows\n",
    "df\n",
    "\n",
    "# Remove outliers\n",
    "Q1 = df['value'].quantile(0.25)\n",
    "Q3 = df['value'].quantile(0.75)\n",
    "IQR = Q3 - Q1\n",
    "df_filtered = df[(df['value'] >= Q1 - 1.5 * IQR) & (df['value'] <= Q3 + 1.5 * IQR)]\n",
    "\n",
    "# Plot a histogram\n",
    "plt.hist(df_filtered['value'], bins=50, edgecolor='black')\n",
    "# plt.hist(df['value'], bins=50, alpha=0.7, edgecolor='black')\n",
    "plt.title(f'Distribution of Values for {feature}')\n",
    "plt.xlabel('Value')\n",
    "plt.ylabel('Frequency')\n",
    "plt.show()"
   ]
  },
  {
   "cell_type": "code",
   "execution_count": 30,
   "metadata": {},
   "outputs": [
    {
     "data": {
      "image/png": "[encoded data removed]",
      "text/plain": [
       "<Figure size 1200x500 with 1 Axes>"
      ]
     },
     "metadata": {},
     "output_type": "display_data"
    }
   ],
   "source": [
    "import matplotlib.pyplot as plt\n",
    "import scipy.stats.mstats as mstats\n",
    "\n",
    "feature = 'fwd_return_3m'\n",
    "# table = 'features_raw'\n",
    "# table = 'features_cleaned'\n",
    "table = 'features_winsorized_id'\n",
    "# table = 'features_normalized'\n",
    "\n",
    "\n",
    "# Query the data\n",
    "query = f\"\"\"\n",
    "SELECT value\n",
    "FROM {table}\n",
    "WHERE id = '{feature}' \n",
    "\"\"\"\n",
    "df = con.execute(query).fetchdf()\n",
    "\n",
    "\n",
    "# Winsorize the data (1% lower & upper percentiles)\n",
    "df['winsorized_value'] = df['value']\n",
    "# df['winsorized_value'] = mstats.winsorize(df['value'], limits=[0.01, 0.01])\n",
    "\n",
    "# Plot the original vs. winsorized distribution\n",
    "plt.figure(figsize=(12, 5))\n",
    "\n",
    "# Winsorized Data Histogram\n",
    "# plt.subplot(1, 2, 2)\n",
    "plt.hist(df['winsorized_value'], bins=50, edgecolor='black', alpha=0.7, label=\"Winsorized\", color='orange')\n",
    "plt.title(f'Distribution of Values for {feature}')\n",
    "plt.xlabel('Value')\n",
    "plt.ylabel('Frequency')\n",
    "\n",
    "plt.tight_layout()\n",
    "plt.show()\n"
   ]
  },
  {
   "cell_type": "code",
   "execution_count": 22,
   "metadata": {},
   "outputs": [
    {
     "data": {
      "image/png": "[encoded data removed]",
      "text/plain": [
       "<Figure size 1200x500 with 1 Axes>"
      ]
     },
     "metadata": {},
     "output_type": "display_data"
    }
   ],
   "source": [
    "feature = 'fwd_return_3m'\n",
    "# table = 'features_raw'\n",
    "table = 'features_cleaned'\n",
    "# table = 'features_winsorized_id'\n",
    "# table = 'features_normalized'\n",
    "\n",
    "\n",
    "# Query the data\n",
    "query = f\"\"\"\n",
    "SELECT value\n",
    "FROM {table}\n",
    "WHERE id = '{feature}' \n",
    "--AND date = '2021-01-04'\n",
    "--and isinf(value) != true;\n",
    "\"\"\"\n",
    "df = con.execute(query).fetchdf()\n",
    "\n",
    "# Plot the original vs. winsorized distribution\n",
    "plt.figure(figsize=(12, 5))\n",
    "\n",
    "# Original Data Histogram\n",
    "plt.subplot(1, 2, 1)\n",
    "plt.hist(df['value'], bins=50, edgecolor='black', alpha=0.7, label=\"Original\")\n",
    "plt.title('Original Distribution of ')\n",
    "plt.xlabel('Value')\n",
    "plt.ylabel('Frequency')\n",
    "\n",
    "plt.tight_layout()\n",
    "plt.show()"
   ]
  },
  {
   "cell_type": "markdown",
   "metadata": {},
   "source": [
    "# Close Database Connection"
   ]
  },
  {
   "cell_type": "code",
   "execution_count": 38,
   "metadata": {},
   "outputs": [],
   "source": [
    "con.close()"
   ]
  }
 ],
 "metadata": {
  "kernelspec": {
   "display_name": ".venv",
   "language": "python",
   "name": "python3"
  },
  "language_info": {
   "codemirror_mode": {
    "name": "ipython",
    "version": 3
   },
   "file_extension": ".py",
   "mimetype": "text/x-python",
   "name": "python",
   "nbconvert_exporter": "python",
   "pygments_lexer": "ipython3",
   "version": "3.12.8"
  }
 },
 "nbformat": 4,
 "nbformat_minor": 2
}
