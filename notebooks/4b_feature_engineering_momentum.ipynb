{
 "cells": [
  {
   "cell_type": "markdown",
   "metadata": {},
   "source": [
    "# Import Modules"
   ]
  },
  {
   "cell_type": "code",
   "execution_count": 1,
   "metadata": {},
   "outputs": [
    {
     "data": {
      "text/html": [
       "<span style=\"None\">Tip: You may define configurations in /Users/kul/Dev/featlib/pyproject.toml or /Users/kul/.jupysql/config. </span>"
      ],
      "text/plain": [
       "Tip: You may define configurations in /Users/kul/Dev/featlib/pyproject.toml or /Users/kul/.jupysql/config. "
      ]
     },
     "metadata": {},
     "output_type": "display_data"
    },
    {
     "data": {
      "text/html": [
       "Please review our <a href='https://jupysql.ploomber.io/en/latest/api/configuration.html#loading-from-a-file'>configuration guideline</a>."
      ],
      "text/plain": [
       "<IPython.core.display.HTML object>"
      ]
     },
     "metadata": {},
     "output_type": "display_data"
    },
    {
     "data": {
      "text/html": [
       "<span style=\"None\">Did not find user configurations in /Users/kul/Dev/featlib/pyproject.toml.</span>"
      ],
      "text/plain": [
       "Did not find user configurations in /Users/kul/Dev/featlib/pyproject.toml."
      ]
     },
     "metadata": {},
     "output_type": "display_data"
    }
   ],
   "source": [
    "import duckdb\n",
    "import pandas as pd\n",
    "%load_ext sql"
   ]
  },
  {
   "cell_type": "markdown",
   "metadata": {},
   "source": [
    "# Connect to Local Database"
   ]
  },
  {
   "cell_type": "code",
   "execution_count": 2,
   "metadata": {},
   "outputs": [],
   "source": [
    "\n",
    "# Create connection to local duckdb database\n",
    "con = duckdb.connect('../db/duck.db')\n",
    "%sql con --alias duckdb"
   ]
  },
  {
   "cell_type": "markdown",
   "metadata": {},
   "source": [
    "# Create Features"
   ]
  },
  {
   "cell_type": "code",
   "execution_count": null,
   "metadata": {},
   "outputs": [],
   "source": [
    "query =\"\"\"\n",
    "CREATE OR REPLACE TEMP TABLE tmp_feat_technicals AS (\n",
    "    WITH price AS (\n",
    "        SELECT\n",
    "            *,\n",
    "        FROM pricing\n",
    "        order by act_symbol, date\n",
    "    ),\n",
    "    technicals AS (\n",
    "        SELECT\n",
    "            date_trunc('day', date) AS date, \n",
    "            act_symbol,\n",
    "            volume,\n",
    "\n",
    "            -- Price Momentum Features\n",
    "            (close - LAG(close, 21) OVER (PARTITION BY act_symbol ORDER BY date ASC)) / LAG(close, 21) OVER (PARTITION BY act_symbol ORDER BY date ASC) AS momentum_1m,\n",
    "            (close - LAG(close, 63) OVER (PARTITION BY act_symbol ORDER BY date ASC)) / LAG(close, 63) OVER (PARTITION BY act_symbol ORDER BY date ASC) AS momentum_3m,\n",
    "            (close - LAG(close, 126) OVER (PARTITION BY act_symbol ORDER BY date ASC)) / LAG(close, 126) OVER (PARTITION BY act_symbol ORDER BY date ASC) AS momentum_6m,\n",
    "            (close - LAG(close, 189) OVER (PARTITION BY act_symbol ORDER BY date ASC)) / LAG(close, 189) OVER (PARTITION BY act_symbol ORDER BY date ASC) AS momentum_9m,\n",
    "            (close - LAG(close, 252) OVER (PARTITION BY act_symbol ORDER BY date ASC))  / LAG(close, 252) OVER (PARTITION BY act_symbol ORDER BY date ASC) AS momentum_12m,\n",
    "            momentum_12m - momentum_1m as momentum_12m_1m,\n",
    "            (close - LAG(close, 1260) OVER (PARTITION BY act_symbol ORDER BY date)) / LAG(close, 1260) OVER (PARTITION BY act_symbol ORDER BY date) AS momentum_5y,\n",
    "            (close - LAG(close, 2520) OVER (PARTITION BY act_symbol ORDER BY date)) / LAG(close, 2520) OVER (PARTITION BY act_symbol ORDER BY date) AS momentum_10y,\n",
    "\n",
    "            -- Volatility of volume/price\n",
    "            STDDEV(LOG(volume / close)) OVER (PARTITION BY act_symbol ORDER BY date RANGE BETWEEN INTERVAL '364' DAY PRECEDING AND CURRENT ROW) AS vol_vo_p_12m,\n",
    "            STDDEV(LOG(volume / close)) OVER (PARTITION BY act_symbol ORDER BY date RANGE BETWEEN INTERVAL '29' DAY PRECEDING AND CURRENT ROW) AS vol_vo_p_1m,\n",
    "\n",
    "            -- Volume Price Trend (VPT)\n",
    "            (close / LAG(close, 1) OVER (PARTITION BY act_symbol ORDER BY date) - 1) * volume AS daily_component,\n",
    "\n",
    "            -- Williams %R\n",
    "            (MAX(close) OVER (PARTITION BY act_symbol ORDER BY date RANGE BETWEEN INTERVAL '21' DAY PRECEDING AND CURRENT ROW) - close) /\n",
    "            (MAX(close) OVER (PARTITION BY act_symbol ORDER BY date RANGE BETWEEN INTERVAL '21' DAY PRECEDING AND CURRENT ROW) -\n",
    "            MIN(close) OVER (PARTITION BY act_symbol ORDER BY date RANGE BETWEEN INTERVAL '21' DAY PRECEDING AND CURRENT ROW)) AS wr, \n",
    "        \n",
    "            -- Volume Indicators\n",
    "            avg(\"volume\") OVER (PARTITION BY \"act_symbol\" ORDER BY \"date\" ASC RANGE BETWEEN INTERVAL 29 DAYS PRECEDING AND CURRENT ROW) as adtv_30d,\n",
    "\n",
    "            -- Lottery\n",
    "            (close - LAG(close, 1) OVER (PARTITION BY act_symbol ORDER BY date)) / LAG(close, 1) OVER (PARTITION BY act_symbol ORDER BY date) AS daily_return,\n",
    "\n",
    "            -- Amihud illiquidity\n",
    "            ABS((close - LAG(close, 1) OVER (PARTITION BY act_symbol ORDER BY date)) / LAG(close, 1) OVER (PARTITION BY act_symbol ORDER BY date)) * 1e9 / (close * volume) AS amihud_component,\n",
    "            \n",
    "            -- Price to 52w High/Low \n",
    "            close / NULLIF(MAX(high) OVER (PARTITION BY act_symbol ORDER BY date asc RANGE BETWEEN INTERVAL '364' DAY PRECEDING AND CURRENT ROW), 0) AS price_to_52w_high,\n",
    "            close / NULLIF(MAX(close) OVER (PARTITION BY act_symbol ORDER BY date asc RANGE BETWEEN INTERVAL '364' DAY PRECEDING AND CURRENT ROW), 0) AS price_to_52w_close_high,\n",
    "            close / NULLIF(MIN(low) OVER (PARTITION BY act_symbol ORDER BY date asc RANGE BETWEEN INTERVAL '364' DAY PRECEDING AND CURRENT ROW), 0) AS price_to_52w_low,\n",
    "            close / NULLIF(MIN(close) OVER (PARTITION BY act_symbol ORDER BY date asc RANGE BETWEEN INTERVAL '364' DAY PRECEDING AND CURRENT ROW), 0) AS price_to_52w_close_low,\n",
    "\n",
    "            -- Log Indicators\n",
    "            log(close) as log_price,\n",
    "            log(volume) as log_volume,\n",
    "            \n",
    "            -- Date Indicators\n",
    "            dayofweek(date) as dayofweek,\n",
    "            dayofmonth(date) as dayofmonth,\n",
    "            dayofyear(date) as dayofyear,\n",
    "            month(date) as month\n",
    "        FROM price\n",
    "    ),\n",
    "    lottery AS (\n",
    "        SELECT\n",
    "            *,\n",
    "            MAX(daily_return) OVER (PARTITION BY act_symbol ORDER BY date RANGE BETWEEN INTERVAL '30' DAY PRECEDING AND CURRENT ROW) AS lottery\n",
    "        FROM technicals\n",
    "    ),\n",
    "    amihud AS (\n",
    "        SELECT\n",
    "            *,\n",
    "            AVG(amihud_component) OVER (PARTITION BY act_symbol ORDER BY date RANGE BETWEEN INTERVAL '30' DAY PRECEDING AND CURRENT ROW) AS amihud\n",
    "        FROM lottery\n",
    "    ),\n",
    "    vpt1 AS (\n",
    "        SELECT\n",
    "            *,\n",
    "            SUM(daily_component) OVER (PARTITION BY act_symbol ORDER BY date RANGE BETWEEN INTERVAL '21' DAY PRECEDING AND CURRENT ROW) AS three_week_sum,\n",
    "            AVG(volume) OVER (PARTITION BY act_symbol ORDER BY date RANGE BETWEEN INTERVAL '21' DAY PRECEDING AND CURRENT ROW) AS avg_volume_3weeks,\n",
    "        FROM amihud\n",
    "    ),\n",
    "    vpt2 AS (\n",
    "        SELECT\n",
    "            *,\n",
    "            AVG(three_week_sum) OVER (PARTITION BY act_symbol ORDER BY date RANGE BETWEEN INTERVAL '14' DAY PRECEDING AND CURRENT ROW) AS ema_approx\n",
    "        FROM vpt1\n",
    "    ),\n",
    "    vpt3 AS (\n",
    "        SELECT\n",
    "            *,\n",
    "            ema_approx / avg_volume_3weeks AS vpt\n",
    "        FROM vpt2\n",
    "    )\n",
    "    select * exclude (volume, daily_return, amihud_component, daily_component, three_week_sum, avg_volume_3weeks, ema_approx) \n",
    "    from vpt3\n",
    ");\n",
    "\"\"\"\n",
    "\n",
    "con.sql(query)"
   ]
  },
  {
   "cell_type": "code",
   "execution_count": 5,
   "metadata": {},
   "outputs": [
    {
     "data": {
      "text/plain": [
       "┌────────────┬────────────┬───────────────────────┬──────────────────────┬──────────────────────┬───────────────────────┬──────────────────────┬─────────────────────┬────────────────────┬──────────────┬─────────────────────┬─────────────────────┬────────────────────┬────────────────────┬────────────────────┬─────────────────────────┬────────────────────┬────────────────────────┬────────────────────┬────────────────────┬───────────┬────────────┬───────────┬───────┬──────────────────────┬────────────────────┬───────────────────────┐\n",
       "│    date    │ act_symbol │      momentum_1m      │     momentum_3m      │     momentum_6m      │      momentum_9m      │     momentum_12m     │   momentum_12m_1m   │    momentum_5y     │ momentum_10y │    vol_vo_p_12m     │     vol_vo_p_1m     │         wr         │      adtv_30d      │ price_to_52w_high  │ price_to_52w_close_high │  price_to_52w_low  │ price_to_52w_close_low │     log_price      │     log_volume     │ dayofweek │ dayofmonth │ dayofyear │ month │       lottery        │       amihud       │          vpt          │\n",
       "│    date    │  varchar   │        double         │        double        │        double        │        double         │        double        │       double        │       double       │    double    │       double        │       double        │       double       │       double       │       double       │         double          │       double       │         double         │       double       │       double       │   int64   │   int64    │   int64   │ int64 │        double        │       double       │        double         │\n",
       "├────────────┼────────────┼───────────────────────┼──────────────────────┼──────────────────────┼───────────────────────┼──────────────────────┼─────────────────────┼────────────────────┼──────────────┼─────────────────────┼─────────────────────┼────────────────────┼────────────────────┼────────────────────┼─────────────────────────┼────────────────────┼────────────────────────┼────────────────────┼────────────────────┼───────────┼────────────┼───────────┼───────┼──────────────────────┼────────────────────┼───────────────────────┤\n",
       "│ 2014-04-08 │ MHLD       │   0.00998336106489193 │  0.08392857142857155 │ 0.020168067226890775 │ -0.008169934640522847 │  0.20556107249255215 │ 0.19557771142766023 │               NULL │         NULL │  0.3078962653965679 │  0.2331430760481851 │                1.0 │  492779.7727272727 │ 0.9005934718100891 │      0.9100449775112445 │ 1.2262626262626262 │     1.2152152152152151 │ 1.0842186867392387 │   5.45641310445543 │         2 │          8 │        98 │     4 │   0.0281224152191894 │  2.120096908439755 │    0.1177223488061289 │\n",
       "│ 2014-04-09 │ MHLD       │  0.019900497512437828 │  0.07423580786026214 │  0.05943152454780373 │  0.009852216748768555 │  0.22877122877122888 │ 0.20887073125879105 │               NULL │         NULL │  0.3080260956685931 │ 0.24039121255681312 │ 0.8367346938775506 │  476839.7727272727 │ 0.9124629080118695 │      0.9220389805097452 │ 1.2424242424242424 │     1.2312312312312312 │  1.089905111439398 │  5.292431083354235 │         3 │          9 │        99 │     4 │   0.0281224152191894 │  2.265513764526316 │   0.10031572978294608 │\n",
       "│ 2014-04-10 │ MHLD       │  -0.00579470198675499 │  0.06095406360424024 │  0.02649572649572654 │ -0.011522633744856013 │  0.17745098039215693 │ 0.18324568237891192 │               NULL │         NULL │  0.3080391154210479 │ 0.23966091339471357 │                1.0 │ 473050.13636363635 │ 0.8909495548961424 │      0.9002998500749625 │  1.213131313131313 │      1.202202202202202 │  1.079543007402906 │  5.577714634536622 │         4 │         10 │       100 │     4 │   0.0281224152191894 │  2.463566968593162 │   0.08421108316215987 │\n",
       "│ 2014-04-11 │ MHLD       │  -0.01582014987510404 │ 0.033216783216783285 │ 0.012853470437018025 │  -0.03667481662591681 │  0.15655577299412912 │ 0.17237592286923317 │               NULL │         NULL │  0.3075655236040173 │  0.2374385728887415 │                1.0 │ 475607.04545454547 │ 0.8768545994065282 │      0.8860569715142429 │ 1.1939393939393939 │     1.1831831831831832 │ 1.0726174765452365 │  5.499556499774173 │         5 │         11 │       101 │     4 │   0.0281224152191894 │ 2.6217826820081442 │   0.07275659663248417 │\n",
       "│ 2014-04-14 │ MHLD       │ -0.012406947890818889 │ 0.040069686411149746 │  0.02842377260981913 │ -0.024509803921568686 │  0.16715542521994126 │ 0.17956237311076015 │               NULL │         NULL │  0.3062773931586265 │ 0.24349002647648627 │ 0.9076923076923082 │  482261.7619047619 │ 0.8857566765578634 │      0.8950524737631184 │  1.206060606060606 │     1.1951951951951951 │ 1.0770043267933502 │  5.415410762826708 │         1 │         14 │       104 │     4 │   0.0281224152191894 │  2.836841873948708 │   0.07385625462766476 │\n",
       "│ 2014-04-15 │ MHLD       │  -0.04585679806918747 │  0.05048715677590791 │ 0.026839826839826726 │  -0.03025347506132469 │  0.17425742574257425 │  0.2201142238117617 │               NULL │         NULL │  0.3062687050410733 │ 0.24786531454425387 │ 0.9692307692307699 │ 468336.45454545453 │ 0.8798219584569732 │       0.889055472263868 │  1.197979797979798 │                  1.186 │ 1.0740846890282438 │   5.24527818420759 │         2 │         15 │       105 │     4 │   0.0281224152191894 │ 2.8538767838794734 │   0.05389252695081921 │\n",
       "│ 2014-04-16 │ MHLD       │  -0.07086614173228335 │  0.05075690115761356 │  0.01724137931034492 │  -0.08668730650154793 │  0.15121951219512203 │ 0.22208565392740537 │               NULL │         NULL │ 0.30679276202627076 │  0.2575458022413002 │                1.0 │  448435.8181818182 │ 0.8753709198813057 │      0.8845577211394303 │  1.191919191919192 │     1.1800000000000002 │ 1.0718820073061255 │  5.168423818103146 │         3 │         16 │       106 │     4 │   0.0281224152191894 │  2.856278400686048 │  0.032139404172187636 │\n",
       "│ 2014-04-17 │ MHLD       │ -0.055993690851734945 │  0.06589492430988425 │  0.04177545691906009 │  -0.05822187254130607 │   0.1587608906098742 │ 0.21475458146160914 │               NULL │         NULL │  0.3074356830537823 │ 0.26285832422917965 │ 0.8068181818181817 │           425519.0 │ 0.8879821958456974 │      0.8973013493253373 │ 1.2090909090909092 │     1.1958041958041958 │ 1.0780941504064108 │  5.167772071765681 │         4 │         17 │       107 │     4 │ 0.021721641190667707 │ 3.0437914465610665 │  0.011445584431655232 │\n",
       "│ 2014-04-18 │ MHLD       │ -0.055993690851734945 │ 0.038161318300086844 │  0.04724409448818906 │  -0.04163330664531622 │  0.15652173913043488 │ 0.21251542998216982 │               NULL │         NULL │  0.3079018980929685 │  0.2728465669614392 │ 0.8068181818181817 │  417419.8181818182 │ 0.8879821958456974 │      0.8973013493253373 │ 1.2090909090909092 │     1.1958041958041958 │ 1.0780941504064108 │  5.167772071765681 │         5 │         18 │       108 │     4 │ 0.018473895582329352 │  2.929618292901613 │ -0.009784470752862777 │\n",
       "│ 2014-04-21 │ MHLD       │  -0.06279069767441864 │  0.04584775086505185 │  0.06519823788546257 │  -0.01627339300244095 │   0.1481481481481482 │ 0.21093884582256683 │               NULL │         NULL │ 0.30734986562856287 │  0.2067779689150396 │ 0.6704545454545461 │  324245.6666666667 │ 0.8968842729970326 │      0.9062968515742129 │ 1.2212121212121212 │     1.2077922077922079 │  1.082426300860772 │  5.379718762174301 │         1 │         21 │       111 │     4 │ 0.018473895582329352 │ 3.3262593834317973 │ -0.030356861488373868 │\n",
       "│     ·      │  ·         │            ·          │           ·          │           ·          │            ·          │            ·         │           ·         │                 ·  │           ·  │          ·          │           ·         │                 ·  │          ·         │          ·         │               ·         │          ·         │              ·         │          ·         │          ·         │         · │          · │        ·  │     · │           ·          │          ·         │            ·          │\n",
       "│     ·      │  ·         │            ·          │           ·          │           ·          │            ·          │            ·         │           ·         │                 ·  │           ·  │          ·          │           ·         │                 ·  │          ·         │          ·         │               ·         │          ·         │              ·         │          ·         │          ·         │         · │          · │        ·  │     · │           ·          │          ·         │            ·          │\n",
       "│     ·      │  ·         │            ·          │           ·          │           ·          │            ·          │            ·         │           ·         │                 ·  │           ·  │          ·          │           ·         │                 ·  │          ·         │          ·         │               ·         │          ·         │              ·         │          ·         │          ·         │         · │          · │        ·  │     · │           ·          │          ·         │            ·          │\n",
       "│ 2022-06-16 │ NXRT       │  -0.19225449515905946 │ -0.32703387877391105 │  -0.2645762498425891 │  -0.07463159562668359 │  0.07629929966826393 │  0.2685537948273234 │ 1.4589473684210525 │         NULL │ 0.16296996162662095 │  0.2189846243508938 │                1.0 │ 154242.68181818182 │ 0.6144781144781144 │      0.6147368421052631 │  1.089349002051856 │     1.0762992996682639 │ 1.7664128471123994 │ 5.5086253205665825 │         4 │         16 │       167 │     6 │  0.03203439190126199 │  1.919115199960426 │  -0.12888938672468733 │\n",
       "│ 2022-06-17 │ NXRT       │   -0.1683070866141733 │   -0.328375156125809 │ -0.24850717824926943 │ -0.058270975959242216 │  0.07584576209530743 │ 0.24415284870948073 │ 1.5397166165736367 │         NULL │ 0.16624312242202455 │  0.2326713420900289 │ 0.9567224466243508 │           158566.5 │ 0.6223695286195285 │      0.6226315789473684 │ 1.1033389293042342 │     1.0901216365646886 │ 1.7719547489639491 │  5.455930001320159 │         5 │         17 │       168 │     6 │  0.03203439190126199 │ 1.8693161990519922 │  -0.13929538180748618 │\n",
       "│ 2022-06-20 │ NXRT       │   -0.1667840540921256 │  -0.3204273897058824 │ -0.24850717824926943 │ -0.047504025764895375 │  0.07039449873326097 │ 0.23717855282538658 │ 1.5138121546961325 │         NULL │ 0.16782380437931885 │  0.2504084991800942 │ 0.9567224466243508 │ 162692.52380952382 │ 0.6223695286195285 │      0.6226315789473684 │ 1.1033389293042342 │     1.0901216365646886 │ 1.7719547489639491 │  5.455930001320159 │         1 │         20 │       171 │     6 │  0.03203439190126199 │ 1.9106807965071304 │  -0.14881478601860357 │\n",
       "│ 2022-06-21 │ NXRT       │  -0.18665363674438082 │ -0.33188073394495415 │  -0.2803853754940711 │  -0.06649575388559524 │ 0.053716766142159506 │ 0.24037040288654032 │ 1.5209865858935525 │         NULL │ 0.16874118135595995 │     0.2467325990187 │                1.0 │           163309.5 │ 0.6130050505050505 │      0.6132631578947368 │ 1.0867375489647453 │     1.0737191301142646 │ 1.7653704802916486 │  5.246168549188696 │         2 │         21 │       172 │     6 │  0.03203439190126199 │ 1.8904315648389884 │  -0.16242433578122545 │\n",
       "│ 2022-06-22 │ NXRT       │  -0.18476454293628813 │ -0.33287997279836795 │ -0.27805715687477006 │ -0.048804137039431206 │  0.06456863809007055 │ 0.24933318102635868 │ 1.5036154827732877 │         NULL │ 0.17001907814214595 │ 0.24625319520026664 │ 0.9656554092730394 │ 167122.63636363635 │ 0.6193181818181818 │       0.619578947368421 │  1.097929490766648 │     1.0847769996314043 │ 1.7698202577635922 │  5.271072200933633 │         3 │         22 │       173 │     6 │  0.03203439190126199 │  1.848991971704499 │   -0.1816199272767586 │\n",
       "│ 2022-06-23 │ NXRT       │  -0.14441037078338434 │  -0.3110337860590414 │   -0.255819592628516 │ -0.019488817891373782 │  0.09372772630078413 │ 0.23813809708416847 │ 1.6074766355140189 │         NULL │  0.1715967552502394 │  0.2464702568590585 │ 0.8214081282198051 │ 171603.81818181818 │ 0.6458333333333334 │      0.6461052631578947 │ 1.1449356463346392 │     1.1312200516033912 │ 1.7880268840958038 │  5.318019485710142 │         4 │         23 │       174 │     6 │  0.04281345565749241 │ 1.9415666360942083 │  -0.19208898352254056 │\n",
       "│ 2022-06-24 │ NXRT       │  -0.15601164886978228 │  -0.3416982152514873 │  -0.2644428329707517 │  -0.03595754791699672 │  0.08446186742694231 │  0.2404735162967246 │ 1.6086583797685385 │         NULL │ 0.18004320130659673 │ 0.28429093723564924 │ 0.8365807668133249 │           195862.0 │ 0.6403619528619529 │      0.6406315789473684 │ 1.1352359634396567 │     1.1216365646885367 │ 1.7843319480221482 │  5.822063417484898 │         5 │         24 │       175 │     6 │  0.04281345565749241 │ 1.9068784966575898 │  -0.17482285494673888 │\n",
       "│ 2022-06-27 │ NXRT       │  -0.15950013437248056 │  -0.3083812472357364 │  -0.2538470714541334 │ -0.008087535680304552 │  0.11457590876692801 │  0.2740760431394086 │ 1.6996115666810527 │         NULL │ 0.17912603345571532 │  0.2621682874014707 │ 0.7126590756865372 │ 206848.47619047618 │ 0.6581439393939393 │      0.6584210526315789 │ 1.1667599328483491 │     1.1527828971618135 │ 1.7962273140294387 │  5.285122797233756 │         1 │         27 │       178 │     6 │  0.04281345565749241 │  1.800798804385408 │  -0.17647983590279592 │\n",
       "│ 2022-06-28 │ NXRT       │  -0.17199677506046768 │ -0.31768353449230435 │  -0.2506384531192996 │   -0.0349256068911512 │  0.07953749124036438 │  0.2515342663008321 │ 1.6721595836947096 │         NULL │ 0.17946845920157434 │ 0.25665847888155824 │ 0.7749497655726725 │ 203571.68181818182 │ 0.6483585858585857 │      0.6486315789473684 │ 1.1373200442967883 │      1.135643199410247 │ 1.7897216939809217 │  5.129557779571673 │         2 │         28 │       179 │     6 │  0.04281345565749241 │   1.80033102090822 │  -0.17772282051314692 │\n",
       "│ 2022-06-29 │ NXRT       │  -0.15895481763745245 │ -0.32847984352928394 │ -0.25208761950865305 │   -0.0381322957198444 │   0.0531697341513292 │ 0.21212455178878165 │ 1.6637931034482756 │         NULL │ 0.17960230539146052 │ 0.23283847775259653 │ 0.7152051488334675 │ 206220.72727272726 │ 0.6502525252525252 │      0.6505263157894736 │  1.140642303433001 │     1.1240451073117497 │ 1.7909884750888159 │  5.081113172220269 │         3 │         29 │       180 │     6 │  0.04281345565749241 │ 1.7391056391726296 │   -0.1812693493331207 │\n",
       "├────────────┴────────────┴───────────────────────┴──────────────────────┴──────────────────────┴───────────────────────┴──────────────────────┴─────────────────────┴────────────────────┴──────────────┴─────────────────────┴─────────────────────┴────────────────────┴────────────────────┴────────────────────┴─────────────────────────┴────────────────────┴────────────────────────┴────────────────────┴────────────────────┴───────────┴────────────┴───────────┴───────┴──────────────────────┴────────────────────┴───────────────────────┤\n",
       "│ ? rows (>9999 rows, 20 shown)                                                                                                                                                                                                                                                                                                                                                                                                                                                                                                             27 columns │\n",
       "└──────────────────────────────────────────────────────────────────────────────────────────────────────────────────────────────────────────────────────────────────────────────────────────────────────────────────────────────────────────────────────────────────────────────────────────────────────────────────────────────────────────────────────────────────────────────────────────────────────────────────────────────────────────────────────────────────────────────────────────────────────────────────────────────────────────────────────┘"
      ]
     },
     "execution_count": 5,
     "metadata": {},
     "output_type": "execute_result"
    }
   ],
   "source": [
    "con.sql(\"select * from tmp_feat_technicals\")"
   ]
  },
  {
   "cell_type": "markdown",
   "metadata": {},
   "source": [
    "Unpivot momentum features (horiz -> vert) and insert into table"
   ]
  },
  {
   "cell_type": "code",
   "execution_count": 7,
   "metadata": {},
   "outputs": [],
   "source": [
    "con.sql(\"\"\"\n",
    "CREATE OR REPLACE TABLE features_v_mo AS (\n",
    "    with cte as (\n",
    "        UNPIVOT tmp_feat_technicals\n",
    "        ON COLUMNS(* EXCLUDE (date, act_symbol))\n",
    "        INTO\n",
    "            NAME id\n",
    "            VALUE value\n",
    "    )\n",
    "    select \n",
    "        date_trunc('day',date) as date, \n",
    "        act_symbol as symbol,\n",
    "        id,\n",
    "        value\n",
    "    from cte\n",
    ")\n",
    "\"\"\"\n",
    ")\n"
   ]
  },
  {
   "cell_type": "markdown",
   "metadata": {},
   "source": [
    "Merge into features table"
   ]
  },
  {
   "cell_type": "code",
   "execution_count": null,
   "metadata": {},
   "outputs": [],
   "source": [
    "con.sql(\"\"\"\n",
    "INSERT INTO features_raw\n",
    "    SELECT * from features_v_mo\n",
    "\"\"\")"
   ]
  },
  {
   "cell_type": "markdown",
   "metadata": {},
   "source": [
    "Create features table"
   ]
  },
  {
   "cell_type": "code",
   "execution_count": null,
   "metadata": {},
   "outputs": [],
   "source": [
    "con.sql(\"\"\"\n",
    "CREATE OR REPLACE TABLE features_raw AS (\n",
    "    select * from features_v_ta \n",
    "    union\n",
    "    select * from features_v_mo\n",
    ")\n",
    "\"\"\")"
   ]
  },
  {
   "cell_type": "markdown",
   "metadata": {},
   "source": [
    "# Close Database Connection"
   ]
  },
  {
   "cell_type": "code",
   "execution_count": 11,
   "metadata": {},
   "outputs": [],
   "source": [
    "con.close()"
   ]
  },
  {
   "cell_type": "code",
   "execution_count": null,
   "metadata": {},
   "outputs": [],
   "source": []
  }
 ],
 "metadata": {
  "kernelspec": {
   "display_name": ".venv",
   "language": "python",
   "name": "python3"
  },
  "language_info": {
   "codemirror_mode": {
    "name": "ipython",
    "version": 3
   },
   "file_extension": ".py",
   "mimetype": "text/x-python",
   "name": "python",
   "nbconvert_exporter": "python",
   "pygments_lexer": "ipython3",
   "version": "3.12.8"
  }
 },
 "nbformat": 4,
 "nbformat_minor": 2
}
